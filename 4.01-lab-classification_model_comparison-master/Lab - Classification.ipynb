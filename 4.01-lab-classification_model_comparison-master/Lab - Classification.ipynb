{
 "cells": [
  {
   "cell_type": "markdown",
   "metadata": {},
   "source": [
    "## Week 4, Lab 1: Predicting Left-Handedness from Psychological Factors\n",
    "> Author: Matt Brems\n",
    "\n",
    "We can sketch out the data science process as follows:\n",
    "1. Define the problem.\n",
    "2. Obtain the data.\n",
    "3. Explore the data.\n",
    "4. Model the data.\n",
    "5. Evaluate the model.\n",
    "6. Answer the problem.\n",
    "\n",
    "We'll walk through a full data science problem in this lab. \n",
    "- However, there are some additional questions along the way that don't fit neatly into the one main example we'll walk through. Any question that isn't explicitly part of the main example is marked with **(detour)** at the start of the question."
   ]
  },
  {
   "cell_type": "markdown",
   "metadata": {},
   "source": [
    "---\n",
    "## Step 1: Define The Problem.\n",
    "\n",
    "You're currently a data scientist working at a university. A professor of psychology is attempting to study the relationship between personalities and left-handedness. They have tasked you with gathering evidence so that they may publish.\n",
    "\n",
    "Specifically, the professor says \"I need to prove that left-handedness is caused by some personality trait. Go find that personality trait and the data to back it up.\"\n",
    "\n",
    "As a data scientist, you know that any real data science problem must be **specific** and **conclusively answerable**. For example:\n",
    "- Bad data science problem: \"What is the link between obesity and blood pressure?\"\n",
    "    - This is vague and is not conclusively answerable. That is, two people might look at the conclusion and one may say \"Sure, the problem has been answered!\" and the other may say \"The problem has not yet been answered.\"\n",
    "- Good data science problem: \"Does an association exist between obesity and blood pressure?\"\n",
    "    - This is more specific and is conclusively answerable. The problem specifically is asking for a \"Yes\" or \"No\" answer. Based on that, two independent people should both be able to say either \"Yes, the problem has been answered\" or \"No, the problem has not yet been answered.\"\n",
    "- Excellent data science problem: \"As obesity increases, how does blood pressure change?\"\n",
    "    - This is very specific and is conclusively answerable. The problem specifically seeks to understand the effect of one variable on the other.\n",
    "\n",
    "### 1. In the context of the left-handedness and personality example, what are three specific and conclusively answerable problems that you could answer using data science? \n",
    "\n",
    "> You might find it helpful to check out the codebook in the repo for some inspiration."
   ]
  },
  {
   "cell_type": "markdown",
   "metadata": {},
   "source": [
    "Answer:\n",
    "\n",
    "Does an assoiation excist between questions and left handedness\n",
    "Does mathematics preference correlate to left handedness\n",
    "Do videogames correlate to left handedness\n"
   ]
  },
  {
   "cell_type": "markdown",
   "metadata": {},
   "source": [
    "---\n",
    "## Step 2: Obtain the data.\n",
    "\n",
    "### 2. Read in the file titled \"data.csv.\"\n",
    "> Hint: Despite being saved as a .csv file, you won't be able to simply `pd.read_csv()` this data!"
   ]
  },
  {
   "cell_type": "code",
   "execution_count": 3,
   "metadata": {},
   "outputs": [
    {
     "data": {
      "text/plain": [
       "(4184, 56)"
      ]
     },
     "execution_count": 3,
     "metadata": {},
     "output_type": "execute_result"
    }
   ],
   "source": [
    "import pandas as pd\n",
    "pd.set_option('display.max_columns', 500)\n",
    "\n",
    "data = pd.read_csv('./data.csv', delim_whitespace = True )\n",
    "\n",
    "data.shape"
   ]
  },
  {
   "cell_type": "markdown",
   "metadata": {},
   "source": [
    "### 3. Suppose that, instead of us giving you this data in a file, you were actually conducting a survey to gather this data yourself. From an ethics/privacy point of view, what are three things you might consider when attempting to gather this data?\n",
    "> When working with sensitive data like sexual orientation or gender identity, we need to consider how this data could be used if it fell into the wrong hands!"
   ]
  },
  {
   "cell_type": "markdown",
   "metadata": {},
   "source": [
    "Answer:\n",
    "\n",
    "confidentiality\n",
    "anonymity\n",
    "security\n"
   ]
  },
  {
   "cell_type": "markdown",
   "metadata": {},
   "source": [
    "---\n",
    "## Step 3: Explore the data.\n",
    "\n",
    "### 4. Conduct exploratory data analysis on this dataset.\n",
    "> If you haven't already, be sure to check out the codebook in the repo, as that will help in your EDA process."
   ]
  },
  {
   "cell_type": "code",
   "execution_count": null,
   "metadata": {},
   "outputs": [],
   "source": []
  },
  {
   "cell_type": "markdown",
   "metadata": {},
   "source": [
    "---\n",
    "## Step 4: Model the data.\n",
    "\n",
    "### 5. Suppose I wanted to use Q1 - Q44 to predict whether or not the person is left-handed. Would this be a classification or regression problem? Why?"
   ]
  },
  {
   "cell_type": "markdown",
   "metadata": {},
   "source": [
    "Answer: This would be a classification problem because lefthandedness is a descrite variable."
   ]
  },
  {
   "cell_type": "markdown",
   "metadata": {},
   "source": [
    "### (detour) 6. While this isn't the problem we set out to solve, suppose I wanted to predict the age of the respondent using Q1 - Q44 as my predictors. Would this be a classification or regression problem? Why?"
   ]
  },
  {
   "cell_type": "markdown",
   "metadata": {},
   "source": [
    "Answer: Age is a continuous variable, therefore it would be a regression problem."
   ]
  },
  {
   "cell_type": "markdown",
   "metadata": {},
   "source": [
    "### 7. We want to use $k$-nearest neighbors to predict whether or not a person is left-handed based on their responses to Q1 - Q44. Before doing that, however, you remember that it is often a good idea to standardize your variables. In general, why would we standardize our variables? Give an example of when we would standardize our variables."
   ]
  },
  {
   "cell_type": "markdown",
   "metadata": {},
   "source": [
    "Answer:  We would want to standarize our variables if there are major discrepences between their values.  In this case every variable is on a scale of 1-5 therefore they don't need to standarize.  A situation that would require standardization would be if there were categorical variables and numeric variables, i.e House-Type (type 1, type 2, type 3) and house price."
   ]
  },
  {
   "cell_type": "markdown",
   "metadata": {},
   "source": [
    "### 8. Give an example of when we might not standardize our variables."
   ]
  },
  {
   "cell_type": "markdown",
   "metadata": {},
   "source": [
    "Answer: If all the variables are on the same scale, i.e 1-5"
   ]
  },
  {
   "cell_type": "markdown",
   "metadata": {},
   "source": [
    "### 9. Based on your answers to 7 and 8, do you think we should standardize our predictor variables in this case? Why or why not?"
   ]
  },
  {
   "cell_type": "markdown",
   "metadata": {},
   "source": [
    "Answer: I do not think we need to standarize these variables."
   ]
  },
  {
   "cell_type": "markdown",
   "metadata": {},
   "source": [
    "### 10. We want to use $k$-nearest neighbors to predict whether or not a person is left-handed. What munging/cleaning do we need to do to our $y$ variable in order to explicitly answer this question? Do it."
   ]
  },
  {
   "cell_type": "markdown",
   "metadata": {},
   "source": [
    "Answer: "
   ]
  },
  {
   "cell_type": "code",
   "execution_count": 36,
   "metadata": {},
   "outputs": [
    {
     "data": {
      "text/plain": [
       "(4173, 56)"
      ]
     },
     "execution_count": 36,
     "metadata": {},
     "output_type": "execute_result"
    }
   ],
   "source": [
    "# Dropping 0 values for hand types.  \n",
    "# Zeros likely exist because the participant didn't wish to share or did not include their handedness.\n",
    "\n",
    "\n",
    "data = data[data.hand != 0]\n",
    "data.shape"
   ]
  },
  {
   "cell_type": "markdown",
   "metadata": {},
   "source": [
    "### 11. The professor for whom you work suggests that you set $k = 4$. Why might this be a bad idea in this specific case?"
   ]
  },
  {
   "cell_type": "markdown",
   "metadata": {},
   "source": [
    "Answer: K nearest neighbors chooses based on relation to a set value.  With an even amount for k, there is potential for the predictors to sit on both sides of the y value.  Therefore they could not decide which category a predicted value is.  With an odd number for k it is possible for the \"swing\" vote to determine which category it is."
   ]
  },
  {
   "cell_type": "markdown",
   "metadata": {},
   "source": [
    "### 12. Let's *(finally)* use $k$-nearest neighbors to predict whether or not a person is left-handed!\n",
    "\n",
    "> Be sure to create a train/test split with your data!\n",
    "\n",
    "> Create four separate models, one with $k = 3$, one with $k = 5$, one with $k = 15$, and one with $k = 25$.\n",
    "\n",
    "> Instantiate and fit your models."
   ]
  },
  {
   "cell_type": "code",
   "execution_count": 59,
   "metadata": {},
   "outputs": [],
   "source": [
    " X_train, X_test, y_train, y_test  = train_test_split(X,y)"
   ]
  },
  {
   "cell_type": "code",
   "execution_count": 76,
   "metadata": {},
   "outputs": [],
   "source": [
    "from sklearn.neighbors import KNeighborsClassifier\n",
    "from sklearn.model_selection import train_test_split\n",
    "\n",
    "\n",
    "features = ['Q1', 'Q2', 'Q3', 'Q4', 'Q5', 'Q6', 'Q7', 'Q8', 'Q9', 'Q10', 'Q11',\n",
    "       'Q12', 'Q13', 'Q14', 'Q15', 'Q16', 'Q17', 'Q18', 'Q19', 'Q20', 'Q21',\n",
    "       'Q22', 'Q23', 'Q24', 'Q25', 'Q26', 'Q27', 'Q28', 'Q29', 'Q30', 'Q31',\n",
    "       'Q32', 'Q33', 'Q34', 'Q35', 'Q36', 'Q37', 'Q38', 'Q39', 'Q40', 'Q41',\n",
    "       'Q42', 'Q43', 'Q44']\n",
    "\n",
    "X = data[features]\n",
    "y = data['hand']\n",
    "\n",
    "nn = KNeighborsClassifier(n_neighbors=3)\n",
    "nn.fit(X_train,y_train)\n",
    "\n",
    "predict_kn1 =nn.predict(X_test)\n",
    "\n",
    "nn = KNeighborsClassifier(n_neighbors=5)\n",
    "nn.fit(X_train,y_train)\n",
    "\n",
    "predict_kn2 = nn.predict(X_test)\n",
    "\n",
    "nn = KNeighborsClassifier(n_neighbors=15)\n",
    "nn.fit(X_train,y_train)\n",
    "\n",
    "predict_kn3 = nn.predict(X_test)\n",
    "\n",
    "nn = KNeighborsClassifier(n_neighbors=25)\n",
    "nn.fit(X_train,y_train)\n",
    "\n",
    "predict_kn4 = nn.predict(X_test)"
   ]
  },
  {
   "cell_type": "markdown",
   "metadata": {},
   "source": [
    "Being good data scientists, we know that we might not run just one type of model. We might run many different models and see which is best.\n",
    "\n",
    "### 13. We want to use logistic regression to predict whether or not a person is left-handed. Before we do that, let's check the [documentation for logistic regression in sklearn](http://scikit-learn.org/stable/modules/generated/sklearn.linear_model.LogisticRegression.html). Is there default regularization? If so, what is it? If not, how do you know?"
   ]
  },
  {
   "cell_type": "markdown",
   "metadata": {},
   "source": [
    "Answer:  It seems that LogisticRegression uses L2, or ridge regression by default."
   ]
  },
  {
   "cell_type": "code",
   "execution_count": 65,
   "metadata": {},
   "outputs": [],
   "source": [
    "from sklearn.linear_model import LogisticRegression\n"
   ]
  },
  {
   "cell_type": "markdown",
   "metadata": {},
   "source": [
    "### 14. We want to use logistic regression to predict whether or not a person is left-handed. Before we do that, should we standardize our features? Well, the answer is (as always), **it depends**. What is one reason you would standardize? What is one reason you would not standardize?"
   ]
  },
  {
   "cell_type": "markdown",
   "metadata": {},
   "source": [
    "Answer:\n",
    "- An example of when I would standardize in logistic regression is...  When all of the variables differ in scale or type - i.e categorical/numerical\n",
    "- An example of when I would not standardize in logistic regression is... When all of the variables exist on the same scale"
   ]
  },
  {
   "cell_type": "markdown",
   "metadata": {},
   "source": [
    "### 15. Let's use logistic regression to predict whether or not the person is left-handed.\n",
    "\n",
    "\n",
    "> Be sure to use the same train/test split with your data as with your $k$NN model above!\n",
    "\n",
    "> Create four separate models, one with LASSO and $\\alpha = 1$, one with LASSO and $\\alpha = 10$, one with Ridge and $\\alpha = 1$, and one with Ridge and $\\alpha = 10$. *(Hint: Be careful with how you specify $\\alpha$ in your model!)*\n",
    "\n",
    "> Instantiate and fit your models."
   ]
  },
  {
   "cell_type": "code",
   "execution_count": 2,
   "metadata": {},
   "outputs": [
    {
     "ename": "NameError",
     "evalue": "name 'LogisticRegression' is not defined",
     "output_type": "error",
     "traceback": [
      "\u001b[1;31m---------------------------------------------------------------------------\u001b[0m",
      "\u001b[1;31mNameError\u001b[0m                                 Traceback (most recent call last)",
      "\u001b[1;32m<ipython-input-2-627629067e05>\u001b[0m in \u001b[0;36m<module>\u001b[1;34m()\u001b[0m\n\u001b[1;32m----> 1\u001b[1;33m \u001b[0mlr\u001b[0m \u001b[1;33m=\u001b[0m \u001b[0mLogisticRegression\u001b[0m\u001b[1;33m(\u001b[0m\u001b[0mpenalty\u001b[0m\u001b[1;33m=\u001b[0m \u001b[1;34m'l1'\u001b[0m\u001b[1;33m,\u001b[0m \u001b[0mC\u001b[0m \u001b[1;33m=\u001b[0m \u001b[1;36m1\u001b[0m\u001b[1;33m)\u001b[0m\u001b[1;33m\u001b[0m\u001b[0m\n\u001b[0m\u001b[0;32m      2\u001b[0m \u001b[1;33m\u001b[0m\u001b[0m\n\u001b[0;32m      3\u001b[0m \u001b[0mlr\u001b[0m\u001b[1;33m.\u001b[0m\u001b[0mfit\u001b[0m\u001b[1;33m(\u001b[0m\u001b[0mX_train\u001b[0m\u001b[1;33m,\u001b[0m\u001b[0my_train\u001b[0m\u001b[1;33m)\u001b[0m\u001b[1;33m\u001b[0m\u001b[0m\n\u001b[0;32m      4\u001b[0m \u001b[0mpredict_lr1\u001b[0m \u001b[1;33m=\u001b[0m \u001b[0mlr\u001b[0m\u001b[1;33m.\u001b[0m\u001b[0mpredict\u001b[0m\u001b[1;33m(\u001b[0m\u001b[0mX_test\u001b[0m\u001b[1;33m)\u001b[0m\u001b[1;33m\u001b[0m\u001b[0m\n\u001b[0;32m      5\u001b[0m \u001b[1;33m\u001b[0m\u001b[0m\n",
      "\u001b[1;31mNameError\u001b[0m: name 'LogisticRegression' is not defined"
     ]
    }
   ],
   "source": [
    "lr = LogisticRegression(penalty= 'l1', C = 1)\n",
    "\n",
    "lr.fit(X_train,y_train)\n",
    "predict_lr1 = lr.predict(X_test)\n",
    "\n",
    "lr = LogisticRegression(penalty= 'l1', C = 10)\n",
    "\n",
    "lr.fit(X_train,y_train)\n",
    "predict_lr2 = lr.predict(X_test)\n",
    "\n",
    "lr = LogisticRegression(penalty= 'l2', C = 1)\n",
    "\n",
    "lr.fit(X_train,y_train)\n",
    "predict_lr3 = lr.predict(X_test)\n",
    "\n",
    "lr = LogisticRegression(penalty= 'l2', C = 10)\n",
    "\n",
    "lr.fit(X_train,y_train)\n",
    "predict_lr4 = lr.predict(X_test)"
   ]
  },
  {
   "cell_type": "markdown",
   "metadata": {},
   "source": [
    "### (detour) 16. Suppose that, instead of predicting whether or not someone was left-handed, you wanted to predict whether someone was right-handed, left-handed, both, or missing. What type of *(hint: generalized linear)* model would you try to fit here? Why?"
   ]
  },
  {
   "cell_type": "markdown",
   "metadata": {},
   "source": [
    "Answer: Logistic Regression, comparing multiple categorical variables."
   ]
  },
  {
   "cell_type": "markdown",
   "metadata": {},
   "source": [
    "### (detour) 17. Suppose that, instead of predicting whether or not someone was left-handed, you wanted to predict someone's level of education *(1=Less than high school, 2=High school, 3=University degree, 4=Graduate degree)* based on their personality question responses. What type of *(hint: generalized linear)* model would you try to fit here? Why?"
   ]
  },
  {
   "cell_type": "markdown",
   "metadata": {},
   "source": [
    "Answer:  Logistic Regression, comparing multiple categorical variables."
   ]
  },
  {
   "cell_type": "markdown",
   "metadata": {},
   "source": [
    "### (detour) 18. Suppose that, instead of predicting whether or not someone was left-handed, you wanted to predict someone's age based on their personality question responses. Realistically, we would probably fit a multiple linear regression model. However, if I tried to fit a GLM here, what type of model would be most appropriate? Why?"
   ]
  },
  {
   "cell_type": "markdown",
   "metadata": {},
   "source": [
    "Answer: "
   ]
  },
  {
   "cell_type": "markdown",
   "metadata": {},
   "source": [
    "---\n",
    "## Step 5: Evaluate the model(s).\n",
    "\n",
    "### 19. Using accuracy as your metric, evaluate all eight of your models on both the training and testing sets. Put your scores below. (If you want to be fancy and generate a table in Markdown, there's a [Markdown table generator site linked here](https://www.tablesgenerator.com/markdown_tables#).)"
   ]
  },
  {
   "cell_type": "markdown",
   "metadata": {},
   "source": [
    "Answer:\n",
    "from\n",
    "\n",
    "\n",
    "|   |   |   |   |   |\n",
    "|---|---|---|---|---|\n",
    "|   |   |   |   |   |\n",
    "|   |   |   |   |   |\n",
    "|   |   |   |   |   |"
   ]
  },
  {
   "cell_type": "code",
   "execution_count": 82,
   "metadata": {},
   "outputs": [
    {
     "name": "stdout",
     "output_type": "stream",
     "text": [
      "KN1 0.8030592734225621\n",
      "KN2 0.8269598470363289\n",
      "KN3 0.8393881453154876\n",
      "KN4 0.8393881453154876\n",
      "LR1 0.8393881453154876\n",
      "LR2 0.8374760994263862\n",
      "LR3 0.8374760994263862\n",
      "LR4 0.8374760994263862\n"
     ]
    }
   ],
   "source": [
    "from sklearn.metrics import accuracy_score\n",
    "\n",
    "\n",
    "score = accuracy_score\n",
    "\n",
    "print('KN1',score(predict_kn1,y_test))\n",
    "print('KN2',score(predict_kn2,y_test))\n",
    "print('KN3',score(predict_kn3,y_test))\n",
    "print('KN4',score(predict_kn4,y_test))\n",
    "\n",
    "print('LR1',score(predict_lr1,y_test))\n",
    "print('LR2',score(predict_lr2,y_test))\n",
    "print('LR3',score(predict_lr3,y_test))\n",
    "print('LR4',score(predict_lr4,y_test))"
   ]
  },
  {
   "cell_type": "markdown",
   "metadata": {},
   "source": [
    "### 20. In which of your $k$-NN models is there evidence of overfitting? How do you know?"
   ]
  },
  {
   "cell_type": "markdown",
   "metadata": {},
   "source": [
    "Answer: KN1 would be overfit because it only has 3 potential neighbors for 3 categories."
   ]
  },
  {
   "cell_type": "markdown",
   "metadata": {},
   "source": [
    "### 21. Broadly speaking, how does the value of $k$ in $k$-NN affect the bias-variance tradeoff? (i.e. As $k$ increases, how are bias and variance affected?)"
   ]
  },
  {
   "cell_type": "markdown",
   "metadata": {},
   "source": [
    "Answer: Considering the above assumption that as we decrease the neighbors the model is overfit, this would imply that lower neighbors would increase variance.  "
   ]
  },
  {
   "cell_type": "markdown",
   "metadata": {},
   "source": [
    "### 22. If you have a $k$-NN model that has evidence of overfitting, what are three things you might try to do to combat overfitting?"
   ]
  },
  {
   "cell_type": "markdown",
   "metadata": {},
   "source": [
    "Answer:\n",
    "\n",
    "1. Adding more Neighbors\n",
    "2. Adjusting the predictors\n",
    "3. Standarize?"
   ]
  },
  {
   "cell_type": "markdown",
   "metadata": {},
   "source": [
    "### 22. In which of your logistic regression models is there evidence of overfitting? How do you know?"
   ]
  },
  {
   "cell_type": "markdown",
   "metadata": {},
   "source": [
    "Answer:"
   ]
  },
  {
   "cell_type": "code",
   "execution_count": 88,
   "metadata": {},
   "outputs": [],
   "source": [
    "from sklearn.metrics import roc_curve, auc\n",
    "import matplotlib.pyplot as plt\n",
    "\n"
   ]
  },
  {
   "cell_type": "markdown",
   "metadata": {},
   "source": [
    "### 23. Broadly speaking, how does the value of $C$ in logistic regression affect the bias-variance tradeoff? (i.e. As $C$ increases, how are bias and variance affected?)"
   ]
  },
  {
   "cell_type": "markdown",
   "metadata": {},
   "source": [
    "Answer:  As C increases our Bias increases"
   ]
  },
  {
   "cell_type": "markdown",
   "metadata": {},
   "source": [
    "### 24. If you have a logistic regression model that has evidence of overfitting, what are three things you might try to do to combat overfitting?"
   ]
  },
  {
   "cell_type": "markdown",
   "metadata": {},
   "source": [
    "Answer:\n",
    "\n",
    "1. change the regression method\n",
    "2. Adjust the alpha\n",
    "3. Standarize"
   ]
  },
  {
   "cell_type": "markdown",
   "metadata": {},
   "source": [
    "---\n",
    "## Step 6: Answer the problem.\n",
    "\n",
    "### 25. Suppose you want to understand which psychological features are most important in determining left-handedness. Would you rather use $k$-NN or logistic regression? Why?"
   ]
  },
  {
   "cell_type": "markdown",
   "metadata": {},
   "source": [
    "Answer:"
   ]
  },
  {
   "cell_type": "markdown",
   "metadata": {},
   "source": [
    "### 26. Select your best logistic regression model. Interpret the coefficient for `Q1`."
   ]
  },
  {
   "cell_type": "code",
   "execution_count": 93,
   "metadata": {
    "scrolled": true
   },
   "outputs": [
    {
     "name": "stdout",
     "output_type": "stream",
     "text": [
      "[[ 0.00000000e+00  2.34705798e-01 -2.50080381e-03  0.00000000e+00\n",
      "   0.00000000e+00 -9.33018652e-02  8.33816641e-02 -4.93257515e-01\n",
      "   3.22314658e-02 -9.23959164e-02 -3.26405968e-01  0.00000000e+00\n",
      "  -1.50484615e-01  1.81907796e-01  0.00000000e+00  0.00000000e+00\n",
      "   0.00000000e+00 -8.93092787e-04 -2.28269955e-01  0.00000000e+00\n",
      "  -1.71383309e-01  1.86524055e-01 -2.78851737e-01  3.97141908e-02\n",
      "   4.18804787e-03 -5.31471362e-01 -5.37537082e-01  7.40704032e-02\n",
      "  -4.14888805e-01  5.41996739e-01  1.51898038e-01  0.00000000e+00\n",
      "   3.30479474e-01 -2.22335586e-01  6.13327982e-01 -4.47133552e-01\n",
      "  -7.27598914e-01  2.09040481e-01  0.00000000e+00 -1.22870012e-01\n",
      "   0.00000000e+00 -4.08296603e-01  0.00000000e+00 -6.33486440e-01]\n",
      " [-6.42239200e-02  6.41230616e-03 -5.93417994e-02 -4.19663746e-04\n",
      "  -5.96854236e-02  3.23372885e-02 -2.64452099e-02  1.20353457e-01\n",
      "   5.00894123e-02  5.32566335e-02 -3.53895349e-02  2.70229965e-02\n",
      "  -5.08391906e-03  7.98612018e-02  7.08635795e-03 -6.63271594e-02\n",
      "  -4.94695416e-02  1.33330984e-02  4.57008358e-03  4.74877376e-03\n",
      "   8.91295113e-02  8.54354216e-02  6.35277167e-02  7.99227044e-03\n",
      "  -5.79138083e-02 -6.97304429e-02 -7.03662152e-02 -6.25004911e-02\n",
      "   1.77071535e-02 -1.59578496e-02  3.26843406e-02  2.49594483e-02\n",
      "   0.00000000e+00  1.03626296e-02 -1.24826973e-01  3.58314751e-02\n",
      "   3.11789294e-02 -5.91407760e-02  1.00934323e-01  4.68237555e-02\n",
      "   6.88325508e-02  2.47138957e-02  6.48946015e-02 -3.84145790e-02]\n",
      " [ 8.67020291e-03 -2.31292435e-02  1.08564025e-02 -7.09241958e-02\n",
      "   9.36485804e-02  4.66412994e-03  0.00000000e+00 -1.53236543e-01\n",
      "  -7.86064087e-02  1.34213088e-02  3.09642612e-02 -2.37450230e-02\n",
      "  -1.03690087e-02 -5.18384479e-02  0.00000000e+00  6.20076667e-02\n",
      "   4.13001321e-02 -2.95477196e-02 -1.24424887e-02  1.16261067e-02\n",
      "  -4.99085088e-02 -8.17284752e-02 -3.07430317e-02 -1.25634196e-02\n",
      "   6.08712386e-02  8.69610871e-02  3.67135162e-02  0.00000000e+00\n",
      "   4.28051686e-03  2.11223141e-02  0.00000000e+00 -4.39642921e-02\n",
      "  -6.57826289e-02 -1.03480015e-02  1.17290116e-02 -2.04170265e-02\n",
      "  -4.59177977e-02  5.01689836e-02 -8.45322582e-02 -5.97032881e-02\n",
      "  -5.99211574e-02 -3.39994484e-02 -8.76261144e-02 -1.27345246e-02]\n",
      " [ 1.43863437e-01  8.17017742e-03  1.49349284e-01  1.93869519e-01\n",
      "  -2.10133536e-02 -1.02932669e-01  6.50609665e-02 -2.05158741e-02\n",
      "   1.83460310e-03 -2.23457544e-01  2.58454105e-02 -3.96009821e-02\n",
      "   3.26837816e-02 -1.71579977e-01  0.00000000e+00  6.02185140e-02\n",
      "   5.02610495e-02  3.63229413e-02  2.76556977e-02 -5.53441623e-02\n",
      "  -2.07085400e-01 -9.70374299e-02 -1.06432423e-01 -9.30482382e-03\n",
      "   3.83883628e-02  2.31305070e-02  1.32078317e-01  1.90241480e-01\n",
      "  -4.61142792e-02 -2.63008327e-02 -1.38393165e-01  1.09402794e-02\n",
      "   1.31590146e-01  1.29710156e-02  4.05690712e-01 -5.47780657e-02\n",
      "   4.53108245e-02  2.48128806e-02 -1.00802996e-01  1.02532053e-02\n",
      "  -7.26691272e-02  1.08213317e-02  2.30273706e-02  1.83661852e-01]]\n"
     ]
    }
   ],
   "source": [
    "#LR1\n",
    "\n",
    "lr = LogisticRegression(penalty= 'l1', C = 1)\n",
    "\n",
    "lr.fit(X_train,y_train)\n",
    "predict_lr1 = lr.predict(X_test)\n",
    "print(lr.coef_())\n",
    "\n",
    "#not totally sure I understand this question."
   ]
  },
  {
   "cell_type": "markdown",
   "metadata": {},
   "source": [
    "### 27. If you have to select one model overall to be your *best* model, which model would you select? Why?"
   ]
  },
  {
   "cell_type": "markdown",
   "metadata": {},
   "source": [
    "Answer:\n",
    "\n",
    "KN3 produces the best score"
   ]
  },
  {
   "cell_type": "markdown",
   "metadata": {},
   "source": [
    "### 28. Circle back to the three specific and conclusively answerable questions you came up with in Q1. Answer these for the professor based on the model you selected!"
   ]
  },
  {
   "cell_type": "code",
   "execution_count": 22,
   "metadata": {},
   "outputs": [
    {
     "name": "stdout",
     "output_type": "stream",
     "text": [
      "-0.005526109785947492\n",
      "-0.02041453698794161\n"
     ]
    },
    {
     "name": "stderr",
     "output_type": "stream",
     "text": [
      "C:\\Users\\tbaca\\Anaconda3\\lib\\site-packages\\pandas\\core\\frame.py:3795: SettingWithCopyWarning: \n",
      "A value is trying to be set on a copy of a slice from a DataFrame\n",
      "\n",
      "See the caveats in the documentation: http://pandas.pydata.org/pandas-docs/stable/indexing.html#indexing-view-versus-copy\n",
      "  method=method)\n"
     ]
    }
   ],
   "source": [
    "hand = data[['hand']]\n",
    "hand.replace({3:'Both',2:\"left\",1:'Right'},inplace = True)\n",
    "hand_dummies = pd.get_dummies(hand, drop_first=True)\n",
    "\n",
    "\n",
    "print(data['Q13'].corr(hand_dummies['hand_left']))\n",
    "print(data['Q37'].corr(hand_dummies['hand_left']))"
   ]
  },
  {
   "cell_type": "markdown",
   "metadata": {},
   "source": [
    "Answer:\n",
    "\n",
    "No, these questions do not lead to a specific conclusion on left handedness.  All of the correlations are inconclusive."
   ]
  },
  {
   "cell_type": "markdown",
   "metadata": {},
   "source": [
    "### BONUS:\n",
    "Looking for more to do? Probably not - you're busy! But if you want to, consider exploring the following:\n",
    "- Suppose this data were in a `SQL` database named `data` and a table named `inventory`. What `SQL` query would return the count of people who were right-handed, left-handed, both, or missing with their class labels of 1, 2, 3, and 0, respectively? (You can assume you've already logged into the database.)\n",
    "- Fit and evaluate one or more of the generalized linear models discussed above.\n",
    "- Create a plot comparing training and test metrics for various values of $k$ and various regularization schemes in logistic regression.\n",
    "- Rather than just evaluating models based on accuracy, consider using sensitivity, specificity, etc.\n",
    "- In the context of predicting left-handedness, why are unbalanced classes concerning? If you were to re-do this process given those concerns, what changes might you make?"
   ]
  },
  {
   "cell_type": "code",
   "execution_count": null,
   "metadata": {
    "collapsed": true
   },
   "outputs": [],
   "source": []
  }
 ],
 "metadata": {
  "kernelspec": {
   "display_name": "Python 3",
   "language": "python",
   "name": "python3"
  },
  "language_info": {
   "codemirror_mode": {
    "name": "ipython",
    "version": 3
   },
   "file_extension": ".py",
   "mimetype": "text/x-python",
   "name": "python",
   "nbconvert_exporter": "python",
   "pygments_lexer": "ipython3",
   "version": "3.6.5"
  }
 },
 "nbformat": 4,
 "nbformat_minor": 2
}
