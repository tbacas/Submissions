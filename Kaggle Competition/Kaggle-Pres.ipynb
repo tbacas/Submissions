{
 "cells": [
  {
   "cell_type": "code",
   "execution_count": 2,
   "metadata": {},
   "outputs": [],
   "source": [
    "import matplotlib.pyplot as plt\n",
    "import pandas as pd\n",
    "import numpy as np\n",
    "import seaborn as sns\n",
    "from sklearn.model_selection import train_test_split\n",
    "from sklearn.model_selection import cross_val_score\n",
    "import sklearn.linear_model as linear_model\n",
    "from sklearn.linear_model import LinearRegression\n",
    "from matplotlib.ticker import FormatStrFormatter\n",
    "from sklearn.metrics import mean_squared_error, r2_score\n",
    "from sklearn.preprocessing import StandardScaler"
   ]
  },
  {
   "cell_type": "code",
   "execution_count": 3,
   "metadata": {},
   "outputs": [],
   "source": [
    "df = pd.read_csv('./train.csv')\n",
    "submit = pd.read_csv('./test.csv')"
   ]
  },
  {
   "cell_type": "code",
   "execution_count": 29,
   "metadata": {},
   "outputs": [
    {
     "data": {
      "text/plain": [
       "SalePrice          1.000000\n",
       "Overall Qual       0.800207\n",
       "Gr Liv Area        0.697038\n",
       "Garage Area        0.650270\n",
       "Garage Cars        0.648220\n",
       "Total Bsmt SF      0.628925\n",
       "1st Flr SF         0.618486\n",
       "Year Built         0.571849\n",
       "Year Remod/Add     0.550370\n",
       "Full Bath          0.537969\n",
       "Garage Yr Blt      0.533922\n",
       "Mas Vnr Area       0.512230\n",
       "TotRms AbvGrd      0.504014\n",
       "Fireplaces         0.471093\n",
       "BsmtFin SF 1       0.423519\n",
       "Lot Frontage       0.341842\n",
       "Open Porch SF      0.333476\n",
       "Wood Deck SF       0.326490\n",
       "Lot Area           0.296566\n",
       "Bsmt Full Bath     0.283662\n",
       "Half Bath          0.283001\n",
       "2nd Flr SF         0.248452\n",
       "Bsmt Unf SF        0.190210\n",
       "Bedroom AbvGr      0.137067\n",
       "Screen Porch       0.134581\n",
       "3Ssn Porch         0.048732\n",
       "Mo Sold            0.032735\n",
       "Pool Area          0.023106\n",
       "BsmtFin SF 2       0.016255\n",
       "Misc Val          -0.007375\n",
       "Yr Sold           -0.015203\n",
       "Low Qual Fin SF   -0.041594\n",
       "Bsmt Half Bath    -0.045328\n",
       "Id                -0.051398\n",
       "MS SubClass       -0.087335\n",
       "Overall Cond      -0.097019\n",
       "Kitchen AbvGr     -0.125444\n",
       "Enclosed Porch    -0.135656\n",
       "PID               -0.255052\n",
       "dtype: float64"
      ]
     },
     "execution_count": 29,
     "metadata": {},
     "output_type": "execute_result"
    }
   ],
   "source": [
    "df.corrwith(df['SalePrice']).sort_values(ascending = False)\n",
    "#General idea of which columns correlated strongly with SalePrice\n",
    "\n",
    "##features = ['Year Built','Year Remod/Add','Gr Liv Area'\n",
    "         ##,'Total Bsmt SF','Garage Area','1st Flr SF', 'Full Bath','Fireplaces','TotRms AbvGrd']\n",
    "\n",
    "##sns.heatmap(df[features].corr())\n",
    "\n",
    "#Model 1 correlations between predictors"
   ]
  },
  {
   "cell_type": "code",
   "execution_count": 33,
   "metadata": {
    "collapsed": true
   },
   "outputs": [
    {
     "data": {
      "text/plain": [
       "60.0     179\n",
       "70.0      96\n",
       "80.0      94\n",
       "50.0      90\n",
       "65.0      71\n",
       "75.0      68\n",
       "85.0      52\n",
       "63.0      38\n",
       "78.0      33\n",
       "24.0      33\n",
       "21.0      32\n",
       "74.0      31\n",
       "90.0      31\n",
       "64.0      31\n",
       "72.0      30\n",
       "62.0      28\n",
       "68.0      28\n",
       "73.0      25\n",
       "100.0     23\n",
       "82.0      21\n",
       "52.0      20\n",
       "57.0      20\n",
       "43.0      20\n",
       "79.0      19\n",
       "66.0      19\n",
       "53.0      18\n",
       "59.0      18\n",
       "67.0      18\n",
       "88.0      16\n",
       "51.0      16\n",
       "        ... \n",
       "113.0      2\n",
       "313.0      2\n",
       "130.0      2\n",
       "101.0      2\n",
       "46.0       2\n",
       "33.0       1\n",
       "141.0      1\n",
       "115.0      1\n",
       "121.0      1\n",
       "174.0      1\n",
       "117.0      1\n",
       "195.0      1\n",
       "150.0      1\n",
       "118.0      1\n",
       "160.0      1\n",
       "123.0      1\n",
       "137.0      1\n",
       "116.0      1\n",
       "200.0      1\n",
       "25.0       1\n",
       "144.0      1\n",
       "124.0      1\n",
       "138.0      1\n",
       "111.0      1\n",
       "122.0      1\n",
       "22.0       1\n",
       "155.0      1\n",
       "153.0      1\n",
       "119.0      1\n",
       "135.0      1\n",
       "Name: Lot Frontage, Length: 118, dtype: int64"
      ]
     },
     "execution_count": 33,
     "metadata": {},
     "output_type": "execute_result"
    }
   ],
   "source": [
    "df['Lot Frontage'].value_counts()"
   ]
  },
  {
   "cell_type": "code",
   "execution_count": null,
   "metadata": {},
   "outputs": [],
   "source": [
    "df['Garage Finish'].fillna('None', inplace = True)\n",
    "df['Garage Qual'].fillna('None', inplace = True)\n",
    "df['Garage Finish'].fillna('None', inplace = True)\n",
    "df['Garage Type'].fillna('None', inplace = True)\n",
    "df['Garage Cond'].fillna('None', inplace = True)\n",
    "df['Bsmt Exposure'].fillna('None', inplace = True)\n",
    "df['BsmtFin Type 2'].fillna('None', inplace = True)\n",
    "df['BsmtFin Type 1'].fillna('None', inplace = True)\n",
    "df['Bsmt Cond'].fillna('None', inplace = True)\n",
    "df['Bsmt Qual'].fillna('None', inplace = True)\n",
    "df['Mas Vnr Type'].fillna('None', inplace = True)\n",
    "\n",
    "\n",
    "\n",
    "df['Garage Cars'].fillna(0, inplace=True)\n",
    "df['Garage Area'].fillna(0, inplace=True)\n",
    "df['Total Bsmt SF'].fillna(0, inplace = True)\n",
    "df['BsmtFin SF 1'].fillna(0, inplace = True)\n",
    "df['Bsmt Full Bath'].fillna(0, inplace = True)\n",
    "df['Bsmt Unf SF'].fillna(0, inplace = True)\n",
    "df['Bsmt Half Bath'].fillna(0, inplace = True)\n",
    "df['Mas Vnr Area'].fillna(0, inplace = True)\n",
    "df['BsmtFin SF 2'].fillna(0, inplace = True)\n",
    "\n",
    "df.drop(['Pool QC','Misc Feature','Alley','Fence','Fireplace Qu'], axis = 1, inplace = True)\n",
    "\n",
    "submit['Mas Vnr Area'].fillna(0, inplace = True)\n",
    "\n",
    "#Dropping and cleaning a variety of test predictors,  many of these were used during my modeling stage."
   ]
  },
  {
   "cell_type": "code",
   "execution_count": 16,
   "metadata": {
    "scrolled": false
   },
   "outputs": [],
   "source": [
    "numeric = df._get_numeric_data()\n",
    "num_cols = df._get_numeric_data().drop(['Id','PID'], axis = 1).columns\n",
    "num_cols.shape\n",
    "\n",
    "categorical = df.select_dtypes(exclude=[\"number\",\"bool_\"]).columns\n",
    "\n",
    "numeric_sub = submit._get_numeric_data\n",
    "num_cols_sub = submit._get_numeric_data().columns\n",
    "\n",
    "#Numeric and Categorical columns for a general test including nearly all predictors"
   ]
  },
  {
   "cell_type": "code",
   "execution_count": 17,
   "metadata": {},
   "outputs": [],
   "source": [
    "features= num_cols_sub"
   ]
  },
  {
   "cell_type": "code",
   "execution_count": 23,
   "metadata": {},
   "outputs": [],
   "source": [
    "dummies = pd.get_dummies(df[categorical])"
   ]
  },
  {
   "cell_type": "code",
   "execution_count": 24,
   "metadata": {
    "scrolled": true
   },
   "outputs": [
    {
     "data": {
      "text/plain": [
       "Bsmt Qual_Ex            0.586497\n",
       "Kitchen Qual_Ex         0.551284\n",
       "Foundation_PConc        0.529047\n",
       "Exter Qual_Ex           0.493861\n",
       "BsmtFin Type 1_GLQ      0.463549\n",
       "Heating QC_Ex           0.453255\n",
       "Neighborhood_NridgHt    0.448647\n",
       "Exter Qual_Gd           0.446685\n",
       "Garage Finish_Fin       0.422936\n",
       "Fireplace Qu_Gd         0.384732\n",
       "Bsmt Exposure_Gd        0.377032\n",
       "Sale Type_New           0.358102\n",
       "Garage Type_Attchd      0.357879\n",
       "Exterior 1st_VinylSd    0.342146\n",
       "Exterior 2nd_VinylSd    0.337563\n",
       "Mas Vnr Type_Stone      0.310026\n",
       "Kitchen Qual_Gd         0.306246\n",
       "Paved Drive_Y           0.289210\n",
       "Central Air_Y           0.277378\n",
       "Lot Shape_IR1           0.273574\n",
       "Garage Cond_TA          0.271846\n",
       "Roof Style_Hip          0.265224\n",
       "Neighborhood_NoRidge    0.263395\n",
       "Mas Vnr Type_BrkFace    0.257901\n",
       "Neighborhood_StoneBr    0.256977\n",
       "Electrical_SBrkr        0.254044\n",
       "Garage Qual_TA          0.249773\n",
       "Fireplace Qu_Ex         0.234525\n",
       "MS Zoning_RL            0.231468\n",
       "Bsmt Qual_Gd            0.226836\n",
       "                          ...   \n",
       "BsmtFin Type 1_Rec     -0.150915\n",
       "Kitchen Qual_Fa        -0.154875\n",
       "Exter Cond_Fa          -0.155899\n",
       "Alley_Grvl             -0.159109\n",
       "Bsmt Qual_Fa           -0.161499\n",
       "Garage Qual_Fa         -0.168134\n",
       "Exterior 2nd_Wd Sdng   -0.172971\n",
       "Neighborhood_Edwards   -0.176119\n",
       "Neighborhood_IDOTRR    -0.189237\n",
       "Neighborhood_NAmes     -0.189387\n",
       "Exterior 1st_Wd Sdng   -0.191734\n",
       "House Style_1.5Fin     -0.195803\n",
       "Electrical_FuseA       -0.201206\n",
       "Neighborhood_OldTown   -0.208371\n",
       "Sale Type_WD           -0.212542\n",
       "Foundation_BrkTil      -0.229891\n",
       "Roof Style_Gable       -0.249329\n",
       "Paved Drive_N          -0.273613\n",
       "Central Air_N          -0.277378\n",
       "MS Zoning_RM           -0.281951\n",
       "Bsmt Exposure_No       -0.293106\n",
       "Lot Shape_Reg          -0.306291\n",
       "Heating QC_TA          -0.343542\n",
       "Foundation_CBlock      -0.355535\n",
       "Garage Type_Detchd     -0.370344\n",
       "Mas Vnr Type_None      -0.424088\n",
       "Garage Finish_Unf      -0.432220\n",
       "Bsmt Qual_TA           -0.456979\n",
       "Kitchen Qual_TA        -0.540860\n",
       "Exter Qual_TA          -0.600362\n",
       "Length: 253, dtype: float64"
      ]
     },
     "execution_count": 24,
     "metadata": {},
     "output_type": "execute_result"
    }
   ],
   "source": [
    "dummies.corrwith(df['SalePrice']).sort_values(ascending = False)\n",
    "#Corr_test = dummies.drop(features,axis = 1, inplace = True)"
   ]
  },
  {
   "cell_type": "code",
   "execution_count": 18,
   "metadata": {},
   "outputs": [],
   "source": [
    "dummies_features = ['Foundation_PConc','BsmtFin Type 1_GLQ','Neighborhood_NridgHt',\n",
    "         'Exter Qual_Gd','Bsmt Exposure_Gd','Sale Type_New','Garage Type_Attchd','Exterior 1st_VinylSd',\n",
    "         'Exterior 2nd_VinylSd','Mas Vnr Type_Stone','Kitchen Qual_Gd','Paved Drive_Y','Central Air_Y','Garage Cond_TA',\n",
    "         'Roof Style_Hip','Neighborhood_NoRidge','Mas Vnr Type_BrkFace','Neighborhood_StoneBr','Electrical_SBrkr',\n",
    "                'MS Zoning_RM','Bsmt Exposure_No','Lot Shape_Reg','Heating QC_TA','Foundation_CBlock',\n",
    "                'Garage Type_Detchd','Mas Vnr Type_None','Garage Finish_Unf','Bsmt Qual_TA','Kitchen Qual_TA','Exter Qual_TA']"
   ]
  },
  {
   "cell_type": "code",
   "execution_count": null,
   "metadata": {},
   "outputs": [],
   "source": [
    "#df_corr = df.corrwith(df['SalePrice'])"
   ]
  },
  {
   "cell_type": "code",
   "execution_count": null,
   "metadata": {},
   "outputs": [],
   "source": [
    "#sorted_df_corr = df_corr.sort_values(ascending = False)\n",
    "\n",
    "#sorted_df_corr"
   ]
  },
  {
   "cell_type": "code",
   "execution_count": null,
   "metadata": {},
   "outputs": [],
   "source": [
    "#grid_params = {\n",
    " #   ]\n",
    "#}\n",
    "#gs = GridSearchCV(\n",
    "  #  LinearRegression(),\n",
    " #   grid_params,)\n",
    "\n",
    "#gs_results = gs.fit(X_train,y_train)"
   ]
  },
  {
   "cell_type": "code",
   "execution_count": 6,
   "metadata": {},
   "outputs": [
    {
     "name": "stderr",
     "output_type": "stream",
     "text": [
      "C:\\Users\\tbaca\\Anaconda3\\lib\\site-packages\\pandas\\core\\frame.py:3694: SettingWithCopyWarning: \n",
      "A value is trying to be set on a copy of a slice from a DataFrame\n",
      "\n",
      "See the caveats in the documentation: http://pandas.pydata.org/pandas-docs/stable/indexing.html#indexing-view-versus-copy\n",
      "  errors=errors)\n"
     ]
    }
   ],
   "source": [
    "X = df[features]\n",
    "X.drop(['Garage Yr Blt'], axis = 1, inplace = True)\n",
    "X_submit = submit[features]\n",
    "X_submit.drop(['Garage Yr Blt'], axis = 1, inplace = True)\n",
    "y = df['SalePrice']"
   ]
  },
  {
   "cell_type": "code",
   "execution_count": null,
   "metadata": {},
   "outputs": [],
   "source": [
    "from sklearn.preprocessing import PolynomialFeatures\n",
    "pf = PolynomialFeatures(degree=2, interaction_only=True, include_bias=False)\n",
    "pf = pf.fit(X)\n",
    "X = pf.transform(X)\n",
    "\n",
    "X = pd.DataFrame(X)"
   ]
  },
  {
   "cell_type": "code",
   "execution_count": null,
   "metadata": {},
   "outputs": [],
   "source": [
    "pf = PolynomialFeatures(degree=2, interaction_only=True, include_bias=False)\n",
    "pf = pf.fit(X_submit)\n",
    "X_submit = pf.transform(X_submit)\n",
    "\n",
    "X_submit = pd.DataFrame(X_submit)"
   ]
  },
  {
   "cell_type": "code",
   "execution_count": 9,
   "metadata": {
    "scrolled": true
   },
   "outputs": [],
   "source": [
    "dummies = pd.get_dummies(df,columns =categorical,drop_first = True)\n",
    "submit_dummies = pd.get_dummies(submit,columns =categorical, drop_first = True)\n"
   ]
  },
  {
   "cell_type": "code",
   "execution_count": null,
   "metadata": {},
   "outputs": [],
   "source": [
    "#X[['Overall Qual_2','Overall Qual_3',\n",
    "             # 'Overall Qual_4','Overall Qual_5','Overall Qual_6',\n",
    "              #'Overall Qual_7','Overall Qual_8','Overall Qual_9','Overall Qual_10']] = df[['Overall Qual_2','Overall Qual_3',\n",
    "              #'Overall Qual_4','Overall Qual_5','Overall Qual_6',\n",
    "              #'Overall Qual_7','Overall Qual_8','Overall Qual_9','Overall Qual_10']]"
   ]
  },
  {
   "cell_type": "code",
   "execution_count": null,
   "metadata": {},
   "outputs": [],
   "source": [
    "#X_submit[['Overall Qual_2','Overall Qual_3',\n",
    "              #'Overall Qual_4','Overall Qual_5','Overall Qual_6',\n",
    "              #'Overall Qual_7','Overall Qual_8','Overall Qual_9','Overall Qual_10']] = submit[['Overall Qual_2','Overall Qual_3',\n",
    "              #'Overall Qual_4','Overall Qual_5','Overall Qual_6',\n",
    "              #'Overall Qual_7','Overall Qual_8','Overall Qual_9','Overall Qual_10']]"
   ]
  },
  {
   "cell_type": "code",
   "execution_count": 13,
   "metadata": {},
   "outputs": [
    {
     "data": {
      "text/plain": [
       "(2051, 37)"
      ]
     },
     "execution_count": 13,
     "metadata": {},
     "output_type": "execute_result"
    }
   ],
   "source": [
    "submit_dummies_final = submit_dummies[dummies_features]\n",
    "dummies_final = dummies[dummies_features]\n",
    "\n",
    "X.shape"
   ]
  },
  {
   "cell_type": "code",
   "execution_count": 14,
   "metadata": {},
   "outputs": [],
   "source": [
    "X_submit=pd.concat([X_submit,submit_dummies_final],axis = 1)\n",
    "X=pd.concat([X,dummies_final],axis = 1)"
   ]
  },
  {
   "cell_type": "code",
   "execution_count": 1,
   "metadata": {},
   "outputs": [
    {
     "ename": "NameError",
     "evalue": "name 'X' is not defined",
     "output_type": "error",
     "traceback": [
      "\u001b[1;31m---------------------------------------------------------------------------\u001b[0m",
      "\u001b[1;31mNameError\u001b[0m                                 Traceback (most recent call last)",
      "\u001b[1;32m<ipython-input-1-bc5f1a0adac8>\u001b[0m in \u001b[0;36m<module>\u001b[1;34m()\u001b[0m\n\u001b[1;32m----> 1\u001b[1;33m \u001b[0mX\u001b[0m\u001b[1;33m.\u001b[0m\u001b[0mshape\u001b[0m\u001b[1;33m\u001b[0m\u001b[0m\n\u001b[0m",
      "\u001b[1;31mNameError\u001b[0m: name 'X' is not defined"
     ]
    }
   ],
   "source": [
    "X.shape"
   ]
  },
  {
   "cell_type": "code",
   "execution_count": null,
   "metadata": {},
   "outputs": [],
   "source": [
    "#ss = StandardScaler()"
   ]
  },
  {
   "cell_type": "code",
   "execution_count": null,
   "metadata": {},
   "outputs": [],
   "source": [
    "X_train, X_test, y_train, y_test = train_test_split(X,y)"
   ]
  },
  {
   "cell_type": "code",
   "execution_count": null,
   "metadata": {},
   "outputs": [],
   "source": [
    "#X_train_scaled = ss.fit_transform(X_train)\n",
    "#X_test_scaled = ss.transform(X_test)"
   ]
  },
  {
   "cell_type": "code",
   "execution_count": null,
   "metadata": {
    "scrolled": true
   },
   "outputs": [],
   "source": [
    "X.shape"
   ]
  },
  {
   "cell_type": "code",
   "execution_count": 15,
   "metadata": {},
   "outputs": [],
   "source": [
    "lm = linear_model.LinearRegression()\n",
    "\n",
    "model = lm.fit(X_train,y_train)\n",
    "\n",
    "predictions  =  model.predict(X_submit)\n",
    "score        =  model.score(X_train,y-train)\n",
    "betacoef     =  model.coef_"
   ]
  },
  {
   "cell_type": "code",
   "execution_count": 16,
   "metadata": {},
   "outputs": [
    {
     "data": {
      "text/plain": [
       "0.883830067761247"
      ]
     },
     "execution_count": 16,
     "metadata": {},
     "output_type": "execute_result"
    }
   ],
   "source": [
    "score"
   ]
  },
  {
   "cell_type": "code",
   "execution_count": 31,
   "metadata": {
    "collapsed": true
   },
   "outputs": [
    {
     "ename": "NameError",
     "evalue": "name 'X_train' is not defined",
     "output_type": "error",
     "traceback": [
      "\u001b[1;31m---------------------------------------------------------------------------\u001b[0m",
      "\u001b[1;31mNameError\u001b[0m                                 Traceback (most recent call last)",
      "\u001b[1;32m<ipython-input-31-09b9ddf63a66>\u001b[0m in \u001b[0;36m<module>\u001b[1;34m()\u001b[0m\n\u001b[0;32m      1\u001b[0m \u001b[0mlm\u001b[0m \u001b[1;33m=\u001b[0m \u001b[0mlinear_model\u001b[0m\u001b[1;33m.\u001b[0m\u001b[0mLinearRegression\u001b[0m\u001b[1;33m(\u001b[0m\u001b[1;33m)\u001b[0m\u001b[1;33m\u001b[0m\u001b[0m\n\u001b[0;32m      2\u001b[0m \u001b[1;33m\u001b[0m\u001b[0m\n\u001b[1;32m----> 3\u001b[1;33m \u001b[0mmodel\u001b[0m \u001b[1;33m=\u001b[0m \u001b[0mlm\u001b[0m\u001b[1;33m.\u001b[0m\u001b[0mfit\u001b[0m\u001b[1;33m(\u001b[0m\u001b[0mX_train\u001b[0m\u001b[1;33m,\u001b[0m\u001b[0my_train\u001b[0m\u001b[1;33m)\u001b[0m\u001b[1;33m\u001b[0m\u001b[0m\n\u001b[0m\u001b[0;32m      4\u001b[0m \u001b[1;33m\u001b[0m\u001b[0m\n\u001b[0;32m      5\u001b[0m \u001b[0mpredictions\u001b[0m  \u001b[1;33m=\u001b[0m  \u001b[0mmodel\u001b[0m\u001b[1;33m.\u001b[0m\u001b[0mpredict\u001b[0m\u001b[1;33m(\u001b[0m\u001b[0mX_submit\u001b[0m\u001b[1;33m)\u001b[0m\u001b[1;33m\u001b[0m\u001b[0m\n",
      "\u001b[1;31mNameError\u001b[0m: name 'X_train' is not defined"
     ]
    }
   ],
   "source": [
    "lm = linear_model.LinearRegression()\n",
    "\n",
    "model = lm.fit(X_train,y_train)\n",
    "\n",
    "predictions  =  model.predict(X_submit)\n",
    "score        =  model.score(X_test,y_test)\n",
    "betacoef     =  model.coef_"
   ]
  },
  {
   "cell_type": "code",
   "execution_count": 30,
   "metadata": {
    "collapsed": true
   },
   "outputs": [
    {
     "ename": "NameError",
     "evalue": "name 'score' is not defined",
     "output_type": "error",
     "traceback": [
      "\u001b[1;31m---------------------------------------------------------------------------\u001b[0m",
      "\u001b[1;31mNameError\u001b[0m                                 Traceback (most recent call last)",
      "\u001b[1;32m<ipython-input-30-d2d780e36333>\u001b[0m in \u001b[0;36m<module>\u001b[1;34m()\u001b[0m\n\u001b[1;32m----> 1\u001b[1;33m \u001b[0mscore\u001b[0m\u001b[1;33m\u001b[0m\u001b[0m\n\u001b[0m",
      "\u001b[1;31mNameError\u001b[0m: name 'score' is not defined"
     ]
    }
   ],
   "source": [
    "score"
   ]
  },
  {
   "cell_type": "code",
   "execution_count": null,
   "metadata": {},
   "outputs": [],
   "source": [
    "#X_submit_scaled=ss.fit_transform(X_submit)\n",
    "\n",
    "submit['SalePrice'] = predictions\n",
    "\n",
    "\n",
    "\n",
    "submission10 = submit[['Id','SalePrice']]\n",
    "\n",
    "submission10.to_csv(\"Submission10.csv\")\n",
    "\n",
    "#Submission process"
   ]
  },
  {
   "cell_type": "code",
   "execution_count": null,
   "metadata": {},
   "outputs": [],
   "source": []
  }
 ],
 "metadata": {
  "kernelspec": {
   "display_name": "Python 3",
   "language": "python",
   "name": "python3"
  },
  "language_info": {
   "codemirror_mode": {
    "name": "ipython",
    "version": 3
   },
   "file_extension": ".py",
   "mimetype": "text/x-python",
   "name": "python",
   "nbconvert_exporter": "python",
   "pygments_lexer": "ipython3",
   "version": "3.6.5"
  }
 },
 "nbformat": 4,
 "nbformat_minor": 2
}
