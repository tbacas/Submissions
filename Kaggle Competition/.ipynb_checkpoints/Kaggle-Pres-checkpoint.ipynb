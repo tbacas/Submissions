{
 "cells": [
  {
   "cell_type": "code",
   "execution_count": 2,
   "metadata": {},
   "outputs": [],
   "source": [
    "import matplotlib.pyplot as plt\n",
    "import pandas as pd\n",
    "import numpy as np\n",
    "import seaborn as sns\n",
    "from sklearn.model_selection import train_test_split\n",
    "from sklearn.model_selection import cross_val_score\n",
    "import sklearn.linear_model as linear_model\n",
    "from sklearn.linear_model import LinearRegression\n",
    "from matplotlib.ticker import FormatStrFormatter\n",
    "from sklearn.metrics import mean_squared_error, r2_score\n",
    "from sklearn.preprocessing import StandardScaler"
   ]
  },
  {
   "cell_type": "code",
   "execution_count": 96,
   "metadata": {},
   "outputs": [],
   "source": [
    "df = pd.read_csv('./train.csv')\n",
    "submit = pd.read_csv('./test.csv')"
   ]
  },
  {
   "cell_type": "code",
   "execution_count": 32,
   "metadata": {
    "collapsed": true
   },
   "outputs": [
    {
     "data": {
      "text/plain": [
       "SalePrice          1.000000\n",
       "Overall Qual       0.800207\n",
       "Gr Liv Area        0.697038\n",
       "Garage Area        0.650270\n",
       "Garage Cars        0.648220\n",
       "Total Bsmt SF      0.628925\n",
       "1st Flr SF         0.618486\n",
       "Year Built         0.571849\n",
       "Year Remod/Add     0.550370\n",
       "Full Bath          0.537969\n",
       "Garage Yr Blt      0.533922\n",
       "Mas Vnr Area       0.512230\n",
       "TotRms AbvGrd      0.504014\n",
       "Fireplaces         0.471093\n",
       "BsmtFin SF 1       0.423519\n",
       "Lot Frontage       0.341842\n",
       "Open Porch SF      0.333476\n",
       "Wood Deck SF       0.326490\n",
       "Lot Area           0.296566\n",
       "Bsmt Full Bath     0.283662\n",
       "Half Bath          0.283001\n",
       "2nd Flr SF         0.248452\n",
       "Bsmt Unf SF        0.190210\n",
       "Bedroom AbvGr      0.137067\n",
       "Screen Porch       0.134581\n",
       "3Ssn Porch         0.048732\n",
       "Mo Sold            0.032735\n",
       "Pool Area          0.023106\n",
       "BsmtFin SF 2       0.016255\n",
       "Misc Val          -0.007375\n",
       "Yr Sold           -0.015203\n",
       "Low Qual Fin SF   -0.041594\n",
       "Bsmt Half Bath    -0.045328\n",
       "Id                -0.051398\n",
       "MS SubClass       -0.087335\n",
       "Overall Cond      -0.097019\n",
       "Kitchen AbvGr     -0.125444\n",
       "Enclosed Porch    -0.135656\n",
       "PID               -0.255052\n",
       "dtype: float64"
      ]
     },
     "execution_count": 32,
     "metadata": {},
     "output_type": "execute_result"
    }
   ],
   "source": [
    "df.corrwith(df['SalePrice']).sort_values(ascending = False)\n",
    "#General idea of which columns correlated strongly with SalePrice\n",
    "\n",
    "##features = ['Year Built','Year Remod/Add','Gr Liv Area'\n",
    "         ##,'Total Bsmt SF','Garage Area','1st Flr SF', 'Full Bath','Fireplaces','TotRms AbvGrd']\n",
    "\n",
    "##sns.heatmap(df[features].corr())\n",
    "\n",
    "#Model 1 correlations between predictors"
   ]
  },
  {
   "cell_type": "code",
   "execution_count": null,
   "metadata": {},
   "outputs": [],
   "source": []
  },
  {
   "cell_type": "code",
   "execution_count": 97,
   "metadata": {},
   "outputs": [],
   "source": [
    "df['Garage Finish'].fillna('None', inplace = True)\n",
    "df['Garage Qual'].fillna('None', inplace = True)\n",
    "df['Garage Finish'].fillna('None', inplace = True)\n",
    "df['Garage Type'].fillna('None', inplace = True)\n",
    "df['Garage Cond'].fillna('None', inplace = True)\n",
    "df['Bsmt Exposure'].fillna('None', inplace = True)\n",
    "df['BsmtFin Type 2'].fillna('None', inplace = True)\n",
    "df['BsmtFin Type 1'].fillna('None', inplace = True)\n",
    "df['Bsmt Cond'].fillna('None', inplace = True)\n",
    "df['Bsmt Qual'].fillna('None', inplace = True)\n",
    "df['Mas Vnr Type'].fillna('None', inplace = True)\n",
    "df['Garage Yr Blt'].fillna('None', inplace = True)\n",
    "\n",
    "\n",
    "df['Garage Cars'].fillna(0, inplace=True)\n",
    "df['Garage Area'].fillna(0, inplace=True)\n",
    "df['Total Bsmt SF'].fillna(0, inplace = True)\n",
    "df['BsmtFin SF 1'].fillna(0, inplace = True)\n",
    "df['Bsmt Full Bath'].fillna(0, inplace = True)\n",
    "df['Bsmt Unf SF'].fillna(0, inplace = True)\n",
    "df['Bsmt Half Bath'].fillna(0, inplace = True)\n",
    "df['Mas Vnr Area'].fillna(0, inplace = True)\n",
    "df['BsmtFin SF 2'].fillna(0, inplace = True)\n",
    "\n",
    "df.drop(['Pool QC','Misc Feature','Alley','Fence','Fireplace Qu'], axis = 1, inplace = True)\n",
    "\n",
    "submit['Mas Vnr Area'].fillna(0, inplace = True)\n",
    "\n",
    "#Dropping and cleaning a variety of test predictors,  many of these were used during my modeling stage."
   ]
  },
  {
   "cell_type": "code",
   "execution_count": 98,
   "metadata": {
    "scrolled": false
   },
   "outputs": [],
   "source": [
    "numeric = df._get_numeric_data()\n",
    "num_cols = df._get_numeric_data().drop(['Id','PID'], axis = 1).columns\n",
    "num_cols.shape\n",
    "\n",
    "categorical = df.select_dtypes(exclude=[\"number\",\"bool_\"]).columns\n",
    "\n",
    "numeric_sub = submit._get_numeric_data\n",
    "num_cols_sub = submit._get_numeric_data().columns\n",
    "\n",
    "#Numeric and Categorical columns for a general test including nearly all predictors"
   ]
  },
  {
   "cell_type": "code",
   "execution_count": 99,
   "metadata": {},
   "outputs": [],
   "source": [
    "features= num_cols_sub"
   ]
  },
  {
   "cell_type": "code",
   "execution_count": 100,
   "metadata": {},
   "outputs": [],
   "source": [
    "dummies = pd.get_dummies(df[categorical])"
   ]
  },
  {
   "cell_type": "code",
   "execution_count": 77,
   "metadata": {
    "collapsed": true
   },
   "outputs": [
    {
     "data": {
      "text/plain": [
       "Bsmt Qual_Ex            0.586497\n",
       "Kitchen Qual_Ex         0.551284\n",
       "Foundation_PConc        0.529047\n",
       "Exter Qual_Ex           0.493861\n",
       "BsmtFin Type 1_GLQ      0.463549\n",
       "Heating QC_Ex           0.453255\n",
       "Neighborhood_NridgHt    0.448647\n",
       "Exter Qual_Gd           0.446685\n",
       "Garage Finish_Fin       0.422936\n",
       "Bsmt Exposure_Gd        0.377032\n",
       "Sale Type_New           0.358102\n",
       "Garage Type_Attchd      0.357879\n",
       "Exterior 1st_VinylSd    0.342146\n",
       "Exterior 2nd_VinylSd    0.337563\n",
       "Mas Vnr Type_Stone      0.310026\n",
       "Kitchen Qual_Gd         0.306246\n",
       "Paved Drive_Y           0.289210\n",
       "Central Air_Y           0.277378\n",
       "Lot Shape_IR1           0.273574\n",
       "Garage Cond_TA          0.271846\n",
       "Roof Style_Hip          0.265224\n",
       "Neighborhood_NoRidge    0.263395\n",
       "Mas Vnr Type_BrkFace    0.257901\n",
       "Neighborhood_StoneBr    0.256977\n",
       "Electrical_SBrkr        0.254044\n",
       "Garage Qual_TA          0.249773\n",
       "MS Zoning_RL            0.231468\n",
       "Bsmt Qual_Gd            0.226836\n",
       "Garage Yr Blt_2006.0    0.220955\n",
       "Garage Yr Blt_2008.0    0.220169\n",
       "                          ...   \n",
       "Exterior 2nd_Wd Sdng   -0.172971\n",
       "Neighborhood_Edwards   -0.176119\n",
       "Neighborhood_IDOTRR    -0.189237\n",
       "Neighborhood_NAmes     -0.189387\n",
       "Exterior 1st_Wd Sdng   -0.191734\n",
       "Lot Frontage_60.0      -0.195079\n",
       "House Style_1.5Fin     -0.195803\n",
       "Electrical_FuseA       -0.201206\n",
       "Neighborhood_OldTown   -0.208371\n",
       "Sale Type_WD           -0.212542\n",
       "Foundation_BrkTil      -0.229891\n",
       "Garage Finish_None     -0.230855\n",
       "Garage Cond_None       -0.230855\n",
       "Garage Qual_None       -0.230855\n",
       "Garage Yr Blt_None     -0.230855\n",
       "Garage Type_None       -0.230990\n",
       "Roof Style_Gable       -0.249329\n",
       "Paved Drive_N          -0.273613\n",
       "Central Air_N          -0.277378\n",
       "MS Zoning_RM           -0.281951\n",
       "Bsmt Exposure_No       -0.293106\n",
       "Lot Shape_Reg          -0.306291\n",
       "Heating QC_TA          -0.343542\n",
       "Foundation_CBlock      -0.355535\n",
       "Garage Type_Detchd     -0.370344\n",
       "Mas Vnr Type_None      -0.411170\n",
       "Garage Finish_Unf      -0.432220\n",
       "Bsmt Qual_TA           -0.456979\n",
       "Kitchen Qual_TA        -0.540860\n",
       "Exter Qual_TA          -0.600362\n",
       "Length: 462, dtype: float64"
      ]
     },
     "execution_count": 77,
     "metadata": {},
     "output_type": "execute_result"
    }
   ],
   "source": [
    "#dummies.corrwith(df['SalePrice']).sort_values(ascending = False)\n",
    "#Corr_test = dummies.drop(features,axis = 1, inplace = True)"
   ]
  },
  {
   "cell_type": "code",
   "execution_count": 101,
   "metadata": {},
   "outputs": [],
   "source": [
    "dummies_features = ['Foundation_PConc','BsmtFin Type 1_GLQ','Neighborhood_NridgHt',\n",
    "         'Exter Qual_Gd','Bsmt Exposure_Gd','Sale Type_New','Garage Type_Attchd','Exterior 1st_VinylSd',\n",
    "         'Exterior 2nd_VinylSd','Mas Vnr Type_Stone','Kitchen Qual_Gd','Paved Drive_Y','Central Air_Y','Garage Cond_TA',\n",
    "         'Roof Style_Hip','Neighborhood_NoRidge','Mas Vnr Type_BrkFace','Neighborhood_StoneBr','Electrical_SBrkr',\n",
    "                'MS Zoning_RM','Bsmt Exposure_No','Lot Shape_Reg','Heating QC_TA','Foundation_CBlock',\n",
    "                'Garage Type_Detchd','Mas Vnr Type_None','Garage Finish_Unf','Bsmt Qual_TA','Kitchen Qual_TA','Exter Qual_TA']"
   ]
  },
  {
   "cell_type": "code",
   "execution_count": 40,
   "metadata": {},
   "outputs": [],
   "source": [
    "#df_corr = df.corrwith(df['SalePrice'])"
   ]
  },
  {
   "cell_type": "code",
   "execution_count": 41,
   "metadata": {},
   "outputs": [],
   "source": [
    "#sorted_df_corr = df_corr.sort_values(ascending = False)\n",
    "\n",
    "#sorted_df_corr"
   ]
  },
  {
   "cell_type": "code",
   "execution_count": 42,
   "metadata": {},
   "outputs": [],
   "source": [
    "#grid_params = {\n",
    " #   ]\n",
    "#}\n",
    "#gs = GridSearchCV(\n",
    "  #  LinearRegression(),\n",
    " #   grid_params,)\n",
    "\n",
    "#gs_results = gs.fit(X_train,y_train)"
   ]
  },
  {
   "cell_type": "code",
   "execution_count": 88,
   "metadata": {},
   "outputs": [
    {
     "name": "stderr",
     "output_type": "stream",
     "text": [
      "C:\\Users\\tbaca\\Anaconda3\\lib\\site-packages\\pandas\\core\\frame.py:3694: SettingWithCopyWarning: \n",
      "A value is trying to be set on a copy of a slice from a DataFrame\n",
      "\n",
      "See the caveats in the documentation: http://pandas.pydata.org/pandas-docs/stable/indexing.html#indexing-view-versus-copy\n",
      "  errors=errors)\n"
     ]
    }
   ],
   "source": [
    "X = df[features]\n",
    "X.drop(['Garage Yr Blt'], axis = 1, inplace = True)\n",
    "X_submit = submit[features]\n",
    "X_submit.drop(['Garage Yr Blt'], axis = 1, inplace = True)\n",
    "y = df['SalePrice']"
   ]
  },
  {
   "cell_type": "code",
   "execution_count": 44,
   "metadata": {},
   "outputs": [],
   "source": [
    "#from sklearn.preprocessing import PolynomialFeatures\n",
    "#pf = PolynomialFeatures(degree=2, interaction_only=True, include_bias=False)\n",
    "#pf = pf.fit(X)\n",
    "#X = pf.transform(X)\n",
    "\n",
    "#X = pd.DataFrame(X)"
   ]
  },
  {
   "cell_type": "code",
   "execution_count": 45,
   "metadata": {},
   "outputs": [],
   "source": [
    "#pf = PolynomialFeatures(degree=2, interaction_only=True, include_bias=False)\n",
    "#pf = pf.fit(X_submit)\n",
    "#X_submit = pf.transform(X_submit)\n",
    "\n",
    "#X_submit = pd.DataFrame(X_submit)"
   ]
  },
  {
   "cell_type": "code",
   "execution_count": 46,
   "metadata": {
    "scrolled": true
   },
   "outputs": [],
   "source": [
    "dummies = pd.get_dummies(df,columns =categorical,drop_first = True)\n",
    "submit_dummies = pd.get_dummies(submit,columns =categorical, drop_first = True)\n"
   ]
  },
  {
   "cell_type": "code",
   "execution_count": 47,
   "metadata": {},
   "outputs": [],
   "source": [
    "#X[['Overall Qual_2','Overall Qual_3',\n",
    "             # 'Overall Qual_4','Overall Qual_5','Overall Qual_6',\n",
    "              #'Overall Qual_7','Overall Qual_8','Overall Qual_9','Overall Qual_10']] = df[['Overall Qual_2','Overall Qual_3',\n",
    "              #'Overall Qual_4','Overall Qual_5','Overall Qual_6',\n",
    "              #'Overall Qual_7','Overall Qual_8','Overall Qual_9','Overall Qual_10']]"
   ]
  },
  {
   "cell_type": "code",
   "execution_count": 48,
   "metadata": {},
   "outputs": [],
   "source": [
    "#X_submit[['Overall Qual_2','Overall Qual_3',\n",
    "              #'Overall Qual_4','Overall Qual_5','Overall Qual_6',\n",
    "              #'Overall Qual_7','Overall Qual_8','Overall Qual_9','Overall Qual_10']] = submit[['Overall Qual_2','Overall Qual_3',\n",
    "              #'Overall Qual_4','Overall Qual_5','Overall Qual_6',\n",
    "              #'Overall Qual_7','Overall Qual_8','Overall Qual_9','Overall Qual_10']]"
   ]
  },
  {
   "cell_type": "code",
   "execution_count": 102,
   "metadata": {},
   "outputs": [
    {
     "data": {
      "text/plain": [
       "(2051, 37)"
      ]
     },
     "execution_count": 102,
     "metadata": {},
     "output_type": "execute_result"
    }
   ],
   "source": [
    "submit_dummies_final = submit_dummies[dummies_features]\n",
    "dummies_final = dummies[dummies_features]\n",
    "\n",
    "X.shape"
   ]
  },
  {
   "cell_type": "code",
   "execution_count": 103,
   "metadata": {},
   "outputs": [],
   "source": [
    "X_submit=pd.concat([X_submit,submit_dummies_final],axis = 1)\n",
    "X=pd.concat([X,dummies_final],axis = 1)"
   ]
  },
  {
   "cell_type": "code",
   "execution_count": 110,
   "metadata": {},
   "outputs": [
    {
     "ename": "KeyError",
     "evalue": "\"labels ['Lot Frontage'] not contained in axis\"",
     "output_type": "error",
     "traceback": [
      "\u001b[1;31m---------------------------------------------------------------------------\u001b[0m",
      "\u001b[1;31mKeyError\u001b[0m                                  Traceback (most recent call last)",
      "\u001b[1;32m<ipython-input-110-b56a2cd109df>\u001b[0m in \u001b[0;36m<module>\u001b[1;34m()\u001b[0m\n\u001b[1;32m----> 1\u001b[1;33m \u001b[0mX\u001b[0m \u001b[1;33m=\u001b[0m \u001b[0mX\u001b[0m\u001b[1;33m.\u001b[0m\u001b[0mdrop\u001b[0m\u001b[1;33m(\u001b[0m\u001b[1;34m'Lot Frontage'\u001b[0m\u001b[1;33m,\u001b[0m \u001b[0maxis\u001b[0m \u001b[1;33m=\u001b[0m \u001b[1;36m1\u001b[0m\u001b[1;33m)\u001b[0m\u001b[1;33m\u001b[0m\u001b[0m\n\u001b[0m\u001b[0;32m      2\u001b[0m \u001b[0mX_submit\u001b[0m \u001b[1;33m=\u001b[0m \u001b[0mX_submit\u001b[0m\u001b[1;33m.\u001b[0m\u001b[0mdrop\u001b[0m\u001b[1;33m(\u001b[0m\u001b[1;34m'Lot Frontage'\u001b[0m\u001b[1;33m,\u001b[0m \u001b[0maxis\u001b[0m \u001b[1;33m=\u001b[0m \u001b[1;36m1\u001b[0m\u001b[1;33m)\u001b[0m\u001b[1;33m\u001b[0m\u001b[0m\n",
      "\u001b[1;32m~\\Anaconda3\\lib\\site-packages\\pandas\\core\\frame.py\u001b[0m in \u001b[0;36mdrop\u001b[1;34m(self, labels, axis, index, columns, level, inplace, errors)\u001b[0m\n\u001b[0;32m   3692\u001b[0m                                            \u001b[0mindex\u001b[0m\u001b[1;33m=\u001b[0m\u001b[0mindex\u001b[0m\u001b[1;33m,\u001b[0m \u001b[0mcolumns\u001b[0m\u001b[1;33m=\u001b[0m\u001b[0mcolumns\u001b[0m\u001b[1;33m,\u001b[0m\u001b[1;33m\u001b[0m\u001b[0m\n\u001b[0;32m   3693\u001b[0m                                            \u001b[0mlevel\u001b[0m\u001b[1;33m=\u001b[0m\u001b[0mlevel\u001b[0m\u001b[1;33m,\u001b[0m \u001b[0minplace\u001b[0m\u001b[1;33m=\u001b[0m\u001b[0minplace\u001b[0m\u001b[1;33m,\u001b[0m\u001b[1;33m\u001b[0m\u001b[0m\n\u001b[1;32m-> 3694\u001b[1;33m                                            errors=errors)\n\u001b[0m\u001b[0;32m   3695\u001b[0m \u001b[1;33m\u001b[0m\u001b[0m\n\u001b[0;32m   3696\u001b[0m     @rewrite_axis_style_signature('mapper', [('copy', True),\n",
      "\u001b[1;32m~\\Anaconda3\\lib\\site-packages\\pandas\\core\\generic.py\u001b[0m in \u001b[0;36mdrop\u001b[1;34m(self, labels, axis, index, columns, level, inplace, errors)\u001b[0m\n\u001b[0;32m   3106\u001b[0m         \u001b[1;32mfor\u001b[0m \u001b[0maxis\u001b[0m\u001b[1;33m,\u001b[0m \u001b[0mlabels\u001b[0m \u001b[1;32min\u001b[0m \u001b[0maxes\u001b[0m\u001b[1;33m.\u001b[0m\u001b[0mitems\u001b[0m\u001b[1;33m(\u001b[0m\u001b[1;33m)\u001b[0m\u001b[1;33m:\u001b[0m\u001b[1;33m\u001b[0m\u001b[0m\n\u001b[0;32m   3107\u001b[0m             \u001b[1;32mif\u001b[0m \u001b[0mlabels\u001b[0m \u001b[1;32mis\u001b[0m \u001b[1;32mnot\u001b[0m \u001b[1;32mNone\u001b[0m\u001b[1;33m:\u001b[0m\u001b[1;33m\u001b[0m\u001b[0m\n\u001b[1;32m-> 3108\u001b[1;33m                 \u001b[0mobj\u001b[0m \u001b[1;33m=\u001b[0m \u001b[0mobj\u001b[0m\u001b[1;33m.\u001b[0m\u001b[0m_drop_axis\u001b[0m\u001b[1;33m(\u001b[0m\u001b[0mlabels\u001b[0m\u001b[1;33m,\u001b[0m \u001b[0maxis\u001b[0m\u001b[1;33m,\u001b[0m \u001b[0mlevel\u001b[0m\u001b[1;33m=\u001b[0m\u001b[0mlevel\u001b[0m\u001b[1;33m,\u001b[0m \u001b[0merrors\u001b[0m\u001b[1;33m=\u001b[0m\u001b[0merrors\u001b[0m\u001b[1;33m)\u001b[0m\u001b[1;33m\u001b[0m\u001b[0m\n\u001b[0m\u001b[0;32m   3109\u001b[0m \u001b[1;33m\u001b[0m\u001b[0m\n\u001b[0;32m   3110\u001b[0m         \u001b[1;32mif\u001b[0m \u001b[0minplace\u001b[0m\u001b[1;33m:\u001b[0m\u001b[1;33m\u001b[0m\u001b[0m\n",
      "\u001b[1;32m~\\Anaconda3\\lib\\site-packages\\pandas\\core\\generic.py\u001b[0m in \u001b[0;36m_drop_axis\u001b[1;34m(self, labels, axis, level, errors)\u001b[0m\n\u001b[0;32m   3138\u001b[0m                 \u001b[0mnew_axis\u001b[0m \u001b[1;33m=\u001b[0m \u001b[0maxis\u001b[0m\u001b[1;33m.\u001b[0m\u001b[0mdrop\u001b[0m\u001b[1;33m(\u001b[0m\u001b[0mlabels\u001b[0m\u001b[1;33m,\u001b[0m \u001b[0mlevel\u001b[0m\u001b[1;33m=\u001b[0m\u001b[0mlevel\u001b[0m\u001b[1;33m,\u001b[0m \u001b[0merrors\u001b[0m\u001b[1;33m=\u001b[0m\u001b[0merrors\u001b[0m\u001b[1;33m)\u001b[0m\u001b[1;33m\u001b[0m\u001b[0m\n\u001b[0;32m   3139\u001b[0m             \u001b[1;32melse\u001b[0m\u001b[1;33m:\u001b[0m\u001b[1;33m\u001b[0m\u001b[0m\n\u001b[1;32m-> 3140\u001b[1;33m                 \u001b[0mnew_axis\u001b[0m \u001b[1;33m=\u001b[0m \u001b[0maxis\u001b[0m\u001b[1;33m.\u001b[0m\u001b[0mdrop\u001b[0m\u001b[1;33m(\u001b[0m\u001b[0mlabels\u001b[0m\u001b[1;33m,\u001b[0m \u001b[0merrors\u001b[0m\u001b[1;33m=\u001b[0m\u001b[0merrors\u001b[0m\u001b[1;33m)\u001b[0m\u001b[1;33m\u001b[0m\u001b[0m\n\u001b[0m\u001b[0;32m   3141\u001b[0m             \u001b[0mdropped\u001b[0m \u001b[1;33m=\u001b[0m \u001b[0mself\u001b[0m\u001b[1;33m.\u001b[0m\u001b[0mreindex\u001b[0m\u001b[1;33m(\u001b[0m\u001b[1;33m**\u001b[0m\u001b[1;33m{\u001b[0m\u001b[0maxis_name\u001b[0m\u001b[1;33m:\u001b[0m \u001b[0mnew_axis\u001b[0m\u001b[1;33m}\u001b[0m\u001b[1;33m)\u001b[0m\u001b[1;33m\u001b[0m\u001b[0m\n\u001b[0;32m   3142\u001b[0m             \u001b[1;32mtry\u001b[0m\u001b[1;33m:\u001b[0m\u001b[1;33m\u001b[0m\u001b[0m\n",
      "\u001b[1;32m~\\Anaconda3\\lib\\site-packages\\pandas\\core\\indexes\\base.py\u001b[0m in \u001b[0;36mdrop\u001b[1;34m(self, labels, errors)\u001b[0m\n\u001b[0;32m   4385\u001b[0m             \u001b[1;32mif\u001b[0m \u001b[0merrors\u001b[0m \u001b[1;33m!=\u001b[0m \u001b[1;34m'ignore'\u001b[0m\u001b[1;33m:\u001b[0m\u001b[1;33m\u001b[0m\u001b[0m\n\u001b[0;32m   4386\u001b[0m                 raise KeyError(\n\u001b[1;32m-> 4387\u001b[1;33m                     'labels %s not contained in axis' % labels[mask])\n\u001b[0m\u001b[0;32m   4388\u001b[0m             \u001b[0mindexer\u001b[0m \u001b[1;33m=\u001b[0m \u001b[0mindexer\u001b[0m\u001b[1;33m[\u001b[0m\u001b[1;33m~\u001b[0m\u001b[0mmask\u001b[0m\u001b[1;33m]\u001b[0m\u001b[1;33m\u001b[0m\u001b[0m\n\u001b[0;32m   4389\u001b[0m         \u001b[1;32mreturn\u001b[0m \u001b[0mself\u001b[0m\u001b[1;33m.\u001b[0m\u001b[0mdelete\u001b[0m\u001b[1;33m(\u001b[0m\u001b[0mindexer\u001b[0m\u001b[1;33m)\u001b[0m\u001b[1;33m\u001b[0m\u001b[0m\n",
      "\u001b[1;31mKeyError\u001b[0m: \"labels ['Lot Frontage'] not contained in axis\""
     ]
    }
   ],
   "source": [
    "X = X.drop('Lot Frontage', axis = 1)\n",
    "X_submit = X_submit.drop('Lot Frontage', axis = 1)"
   ]
  },
  {
   "cell_type": "code",
   "execution_count": 52,
   "metadata": {},
   "outputs": [],
   "source": [
    "#ss = StandardScaler()"
   ]
  },
  {
   "cell_type": "code",
   "execution_count": 111,
   "metadata": {},
   "outputs": [],
   "source": [
    "X_train, X_test, y_train, y_test = train_test_split(X,y)"
   ]
  },
  {
   "cell_type": "code",
   "execution_count": 54,
   "metadata": {},
   "outputs": [],
   "source": [
    "#X_train_scaled = ss.fit_transform(X_train)\n",
    "#X_test_scaled = ss.transform(X_test)"
   ]
  },
  {
   "cell_type": "code",
   "execution_count": 112,
   "metadata": {
    "scrolled": true
   },
   "outputs": [
    {
     "data": {
      "text/plain": [
       "Id                        int64\n",
       "PID                       int64\n",
       "MS SubClass               int64\n",
       "Lot Area                  int64\n",
       "Overall Qual              int64\n",
       "Overall Cond              int64\n",
       "Year Built                int64\n",
       "Year Remod/Add            int64\n",
       "Mas Vnr Area            float64\n",
       "BsmtFin SF 1            float64\n",
       "BsmtFin SF 2            float64\n",
       "Bsmt Unf SF             float64\n",
       "Total Bsmt SF           float64\n",
       "1st Flr SF                int64\n",
       "2nd Flr SF                int64\n",
       "Low Qual Fin SF           int64\n",
       "Gr Liv Area               int64\n",
       "Bsmt Full Bath          float64\n",
       "Bsmt Half Bath          float64\n",
       "Full Bath                 int64\n",
       "Half Bath                 int64\n",
       "Bedroom AbvGr             int64\n",
       "Kitchen AbvGr             int64\n",
       "TotRms AbvGrd             int64\n",
       "Fireplaces                int64\n",
       "Garage Cars             float64\n",
       "Garage Area             float64\n",
       "Wood Deck SF              int64\n",
       "Open Porch SF             int64\n",
       "Enclosed Porch            int64\n",
       "                         ...   \n",
       "Foundation_PConc          uint8\n",
       "BsmtFin Type 1_GLQ        uint8\n",
       "Neighborhood_NridgHt      uint8\n",
       "Exter Qual_Gd             uint8\n",
       "Bsmt Exposure_Gd          uint8\n",
       "Sale Type_New             uint8\n",
       "Garage Type_Attchd        uint8\n",
       "Exterior 1st_VinylSd      uint8\n",
       "Exterior 2nd_VinylSd      uint8\n",
       "Mas Vnr Type_Stone        uint8\n",
       "Kitchen Qual_Gd           uint8\n",
       "Paved Drive_Y             uint8\n",
       "Central Air_Y             uint8\n",
       "Garage Cond_TA            uint8\n",
       "Roof Style_Hip            uint8\n",
       "Neighborhood_NoRidge      uint8\n",
       "Mas Vnr Type_BrkFace      uint8\n",
       "Neighborhood_StoneBr      uint8\n",
       "Electrical_SBrkr          uint8\n",
       "MS Zoning_RM              uint8\n",
       "Bsmt Exposure_No          uint8\n",
       "Lot Shape_Reg             uint8\n",
       "Heating QC_TA             uint8\n",
       "Foundation_CBlock         uint8\n",
       "Garage Type_Detchd        uint8\n",
       "Mas Vnr Type_None         uint8\n",
       "Garage Finish_Unf         uint8\n",
       "Bsmt Qual_TA              uint8\n",
       "Kitchen Qual_TA           uint8\n",
       "Exter Qual_TA             uint8\n",
       "Length: 66, dtype: object"
      ]
     },
     "execution_count": 112,
     "metadata": {},
     "output_type": "execute_result"
    }
   ],
   "source": [
    "X_train.dtypes"
   ]
  },
  {
   "cell_type": "code",
   "execution_count": 113,
   "metadata": {},
   "outputs": [
    {
     "ename": "ValueError",
     "evalue": "Input contains NaN, infinity or a value too large for dtype('float64').",
     "output_type": "error",
     "traceback": [
      "\u001b[1;31m---------------------------------------------------------------------------\u001b[0m",
      "\u001b[1;31mValueError\u001b[0m                                Traceback (most recent call last)",
      "\u001b[1;32m<ipython-input-113-639002f669be>\u001b[0m in \u001b[0;36m<module>\u001b[1;34m()\u001b[0m\n\u001b[0;32m      3\u001b[0m \u001b[0mmodel\u001b[0m \u001b[1;33m=\u001b[0m \u001b[0mlm\u001b[0m\u001b[1;33m.\u001b[0m\u001b[0mfit\u001b[0m\u001b[1;33m(\u001b[0m\u001b[0mX\u001b[0m\u001b[1;33m,\u001b[0m\u001b[0my\u001b[0m\u001b[1;33m)\u001b[0m\u001b[1;33m\u001b[0m\u001b[0m\n\u001b[0;32m      4\u001b[0m \u001b[1;33m\u001b[0m\u001b[0m\n\u001b[1;32m----> 5\u001b[1;33m \u001b[0mpredictions\u001b[0m  \u001b[1;33m=\u001b[0m  \u001b[0mmodel\u001b[0m\u001b[1;33m.\u001b[0m\u001b[0mpredict\u001b[0m\u001b[1;33m(\u001b[0m\u001b[0mX_submit\u001b[0m\u001b[1;33m)\u001b[0m\u001b[1;33m\u001b[0m\u001b[0m\n\u001b[0m\u001b[0;32m      6\u001b[0m \u001b[0mscore\u001b[0m        \u001b[1;33m=\u001b[0m  \u001b[0mmodel\u001b[0m\u001b[1;33m.\u001b[0m\u001b[0mscore\u001b[0m\u001b[1;33m(\u001b[0m\u001b[0mX_train\u001b[0m\u001b[1;33m,\u001b[0m\u001b[0my\u001b[0m\u001b[1;33m-\u001b[0m\u001b[0mtrain\u001b[0m\u001b[1;33m)\u001b[0m\u001b[1;33m\u001b[0m\u001b[0m\n\u001b[0;32m      7\u001b[0m \u001b[0mbetacoef\u001b[0m     \u001b[1;33m=\u001b[0m  \u001b[0mmodel\u001b[0m\u001b[1;33m.\u001b[0m\u001b[0mcoef_\u001b[0m\u001b[1;33m\u001b[0m\u001b[0m\n",
      "\u001b[1;32m~\\Anaconda3\\lib\\site-packages\\sklearn\\linear_model\\base.py\u001b[0m in \u001b[0;36mpredict\u001b[1;34m(self, X)\u001b[0m\n\u001b[0;32m    254\u001b[0m             \u001b[0mReturns\u001b[0m \u001b[0mpredicted\u001b[0m \u001b[0mvalues\u001b[0m\u001b[1;33m.\u001b[0m\u001b[1;33m\u001b[0m\u001b[0m\n\u001b[0;32m    255\u001b[0m         \"\"\"\n\u001b[1;32m--> 256\u001b[1;33m         \u001b[1;32mreturn\u001b[0m \u001b[0mself\u001b[0m\u001b[1;33m.\u001b[0m\u001b[0m_decision_function\u001b[0m\u001b[1;33m(\u001b[0m\u001b[0mX\u001b[0m\u001b[1;33m)\u001b[0m\u001b[1;33m\u001b[0m\u001b[0m\n\u001b[0m\u001b[0;32m    257\u001b[0m \u001b[1;33m\u001b[0m\u001b[0m\n\u001b[0;32m    258\u001b[0m     \u001b[0m_preprocess_data\u001b[0m \u001b[1;33m=\u001b[0m \u001b[0mstaticmethod\u001b[0m\u001b[1;33m(\u001b[0m\u001b[0m_preprocess_data\u001b[0m\u001b[1;33m)\u001b[0m\u001b[1;33m\u001b[0m\u001b[0m\n",
      "\u001b[1;32m~\\Anaconda3\\lib\\site-packages\\sklearn\\linear_model\\base.py\u001b[0m in \u001b[0;36m_decision_function\u001b[1;34m(self, X)\u001b[0m\n\u001b[0;32m    237\u001b[0m         \u001b[0mcheck_is_fitted\u001b[0m\u001b[1;33m(\u001b[0m\u001b[0mself\u001b[0m\u001b[1;33m,\u001b[0m \u001b[1;34m\"coef_\"\u001b[0m\u001b[1;33m)\u001b[0m\u001b[1;33m\u001b[0m\u001b[0m\n\u001b[0;32m    238\u001b[0m \u001b[1;33m\u001b[0m\u001b[0m\n\u001b[1;32m--> 239\u001b[1;33m         \u001b[0mX\u001b[0m \u001b[1;33m=\u001b[0m \u001b[0mcheck_array\u001b[0m\u001b[1;33m(\u001b[0m\u001b[0mX\u001b[0m\u001b[1;33m,\u001b[0m \u001b[0maccept_sparse\u001b[0m\u001b[1;33m=\u001b[0m\u001b[1;33m[\u001b[0m\u001b[1;34m'csr'\u001b[0m\u001b[1;33m,\u001b[0m \u001b[1;34m'csc'\u001b[0m\u001b[1;33m,\u001b[0m \u001b[1;34m'coo'\u001b[0m\u001b[1;33m]\u001b[0m\u001b[1;33m)\u001b[0m\u001b[1;33m\u001b[0m\u001b[0m\n\u001b[0m\u001b[0;32m    240\u001b[0m         return safe_sparse_dot(X, self.coef_.T,\n\u001b[0;32m    241\u001b[0m                                dense_output=True) + self.intercept_\n",
      "\u001b[1;32m~\\Anaconda3\\lib\\site-packages\\sklearn\\utils\\validation.py\u001b[0m in \u001b[0;36mcheck_array\u001b[1;34m(array, accept_sparse, dtype, order, copy, force_all_finite, ensure_2d, allow_nd, ensure_min_samples, ensure_min_features, warn_on_dtype, estimator)\u001b[0m\n\u001b[0;32m    451\u001b[0m                              % (array.ndim, estimator_name))\n\u001b[0;32m    452\u001b[0m         \u001b[1;32mif\u001b[0m \u001b[0mforce_all_finite\u001b[0m\u001b[1;33m:\u001b[0m\u001b[1;33m\u001b[0m\u001b[0m\n\u001b[1;32m--> 453\u001b[1;33m             \u001b[0m_assert_all_finite\u001b[0m\u001b[1;33m(\u001b[0m\u001b[0marray\u001b[0m\u001b[1;33m)\u001b[0m\u001b[1;33m\u001b[0m\u001b[0m\n\u001b[0m\u001b[0;32m    454\u001b[0m \u001b[1;33m\u001b[0m\u001b[0m\n\u001b[0;32m    455\u001b[0m     \u001b[0mshape_repr\u001b[0m \u001b[1;33m=\u001b[0m \u001b[0m_shape_repr\u001b[0m\u001b[1;33m(\u001b[0m\u001b[0marray\u001b[0m\u001b[1;33m.\u001b[0m\u001b[0mshape\u001b[0m\u001b[1;33m)\u001b[0m\u001b[1;33m\u001b[0m\u001b[0m\n",
      "\u001b[1;32m~\\Anaconda3\\lib\\site-packages\\sklearn\\utils\\validation.py\u001b[0m in \u001b[0;36m_assert_all_finite\u001b[1;34m(X)\u001b[0m\n\u001b[0;32m     42\u001b[0m             and not np.isfinite(X).all()):\n\u001b[0;32m     43\u001b[0m         raise ValueError(\"Input contains NaN, infinity\"\n\u001b[1;32m---> 44\u001b[1;33m                          \" or a value too large for %r.\" % X.dtype)\n\u001b[0m\u001b[0;32m     45\u001b[0m \u001b[1;33m\u001b[0m\u001b[0m\n\u001b[0;32m     46\u001b[0m \u001b[1;33m\u001b[0m\u001b[0m\n",
      "\u001b[1;31mValueError\u001b[0m: Input contains NaN, infinity or a value too large for dtype('float64')."
     ]
    }
   ],
   "source": [
    "lm = linear_model.LinearRegression()\n",
    "\n",
    "model = lm.fit(X,y)\n",
    "\n",
    "predictions  =  model.predict(X_submit)\n",
    "score        =  model.score(X_train,y-train)\n",
    "betacoef     =  model.coef_"
   ]
  },
  {
   "cell_type": "code",
   "execution_count": 57,
   "metadata": {},
   "outputs": [
    {
     "ename": "NameError",
     "evalue": "name 'score' is not defined",
     "output_type": "error",
     "traceback": [
      "\u001b[1;31m---------------------------------------------------------------------------\u001b[0m",
      "\u001b[1;31mNameError\u001b[0m                                 Traceback (most recent call last)",
      "\u001b[1;32m<ipython-input-57-d2d780e36333>\u001b[0m in \u001b[0;36m<module>\u001b[1;34m()\u001b[0m\n\u001b[1;32m----> 1\u001b[1;33m \u001b[0mscore\u001b[0m\u001b[1;33m\u001b[0m\u001b[0m\n\u001b[0m",
      "\u001b[1;31mNameError\u001b[0m: name 'score' is not defined"
     ]
    }
   ],
   "source": [
    "score"
   ]
  },
  {
   "cell_type": "code",
   "execution_count": 31,
   "metadata": {
    "collapsed": true
   },
   "outputs": [
    {
     "ename": "NameError",
     "evalue": "name 'X_train' is not defined",
     "output_type": "error",
     "traceback": [
      "\u001b[1;31m---------------------------------------------------------------------------\u001b[0m",
      "\u001b[1;31mNameError\u001b[0m                                 Traceback (most recent call last)",
      "\u001b[1;32m<ipython-input-31-09b9ddf63a66>\u001b[0m in \u001b[0;36m<module>\u001b[1;34m()\u001b[0m\n\u001b[0;32m      1\u001b[0m \u001b[0mlm\u001b[0m \u001b[1;33m=\u001b[0m \u001b[0mlinear_model\u001b[0m\u001b[1;33m.\u001b[0m\u001b[0mLinearRegression\u001b[0m\u001b[1;33m(\u001b[0m\u001b[1;33m)\u001b[0m\u001b[1;33m\u001b[0m\u001b[0m\n\u001b[0;32m      2\u001b[0m \u001b[1;33m\u001b[0m\u001b[0m\n\u001b[1;32m----> 3\u001b[1;33m \u001b[0mmodel\u001b[0m \u001b[1;33m=\u001b[0m \u001b[0mlm\u001b[0m\u001b[1;33m.\u001b[0m\u001b[0mfit\u001b[0m\u001b[1;33m(\u001b[0m\u001b[0mX_train\u001b[0m\u001b[1;33m,\u001b[0m\u001b[0my_train\u001b[0m\u001b[1;33m)\u001b[0m\u001b[1;33m\u001b[0m\u001b[0m\n\u001b[0m\u001b[0;32m      4\u001b[0m \u001b[1;33m\u001b[0m\u001b[0m\n\u001b[0;32m      5\u001b[0m \u001b[0mpredictions\u001b[0m  \u001b[1;33m=\u001b[0m  \u001b[0mmodel\u001b[0m\u001b[1;33m.\u001b[0m\u001b[0mpredict\u001b[0m\u001b[1;33m(\u001b[0m\u001b[0mX_submit\u001b[0m\u001b[1;33m)\u001b[0m\u001b[1;33m\u001b[0m\u001b[0m\n",
      "\u001b[1;31mNameError\u001b[0m: name 'X_train' is not defined"
     ]
    }
   ],
   "source": [
    "lm = linear_model.LinearRegression()\n",
    "\n",
    "model = lm.fit(X_train,y_train)\n",
    "\n",
    "predictions  =  model.predict(X_submit)\n",
    "score        =  model.score(X_test,y_test)\n",
    "betacoef     =  model.coef_"
   ]
  },
  {
   "cell_type": "code",
   "execution_count": 30,
   "metadata": {
    "collapsed": true
   },
   "outputs": [
    {
     "ename": "NameError",
     "evalue": "name 'score' is not defined",
     "output_type": "error",
     "traceback": [
      "\u001b[1;31m---------------------------------------------------------------------------\u001b[0m",
      "\u001b[1;31mNameError\u001b[0m                                 Traceback (most recent call last)",
      "\u001b[1;32m<ipython-input-30-d2d780e36333>\u001b[0m in \u001b[0;36m<module>\u001b[1;34m()\u001b[0m\n\u001b[1;32m----> 1\u001b[1;33m \u001b[0mscore\u001b[0m\u001b[1;33m\u001b[0m\u001b[0m\n\u001b[0m",
      "\u001b[1;31mNameError\u001b[0m: name 'score' is not defined"
     ]
    }
   ],
   "source": [
    "score"
   ]
  },
  {
   "cell_type": "code",
   "execution_count": null,
   "metadata": {},
   "outputs": [],
   "source": [
    "#X_submit_scaled=ss.fit_transform(X_submit)\n",
    "\n",
    "submit['SalePrice'] = predictions\n",
    "\n",
    "\n",
    "\n",
    "submission10 = submit[['Id','SalePrice']]\n",
    "\n",
    "submission10.to_csv(\"Submission10.csv\")\n",
    "\n",
    "#Submission process"
   ]
  },
  {
   "cell_type": "code",
   "execution_count": null,
   "metadata": {},
   "outputs": [],
   "source": []
  }
 ],
 "metadata": {
  "kernelspec": {
   "display_name": "Python 3",
   "language": "python",
   "name": "python3"
  },
  "language_info": {
   "codemirror_mode": {
    "name": "ipython",
    "version": 3
   },
   "file_extension": ".py",
   "mimetype": "text/x-python",
   "name": "python",
   "nbconvert_exporter": "python",
   "pygments_lexer": "ipython3",
   "version": "3.6.5"
  }
 },
 "nbformat": 4,
 "nbformat_minor": 2
}
