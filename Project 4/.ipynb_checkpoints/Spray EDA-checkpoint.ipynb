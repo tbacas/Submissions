{
 "cells": [
  {
   "cell_type": "code",
   "execution_count": 98,
   "metadata": {},
   "outputs": [],
   "source": [
    "import pandas as pd\n",
    "import datetime\n",
    "import matplotlib.pyplot as plt"
   ]
  },
  {
   "cell_type": "code",
   "execution_count": 71,
   "metadata": {},
   "outputs": [],
   "source": [
    "spray = pd.read_csv('./spray.csv')"
   ]
  },
  {
   "cell_type": "code",
   "execution_count": 40,
   "metadata": {},
   "outputs": [],
   "source": [
    "spray.dropna(inplace = True)\n",
    "\n",
    "#Dropped NaN time values (total 584 values dropped or 3.9% of data)"
   ]
  },
  {
   "cell_type": "code",
   "execution_count": 61,
   "metadata": {
    "scrolled": true
   },
   "outputs": [
    {
     "data": {
      "text/html": [
       "<div>\n",
       "<style scoped>\n",
       "    .dataframe tbody tr th:only-of-type {\n",
       "        vertical-align: middle;\n",
       "    }\n",
       "\n",
       "    .dataframe tbody tr th {\n",
       "        vertical-align: top;\n",
       "    }\n",
       "\n",
       "    .dataframe thead th {\n",
       "        text-align: right;\n",
       "    }\n",
       "</style>\n",
       "<table border=\"1\" class=\"dataframe\">\n",
       "  <thead>\n",
       "    <tr style=\"text-align: right;\">\n",
       "      <th></th>\n",
       "      <th>Date</th>\n",
       "      <th>Time</th>\n",
       "      <th>Latitude</th>\n",
       "      <th>Longitude</th>\n",
       "    </tr>\n",
       "  </thead>\n",
       "  <tbody>\n",
       "    <tr>\n",
       "      <th>0</th>\n",
       "      <td>2011-08-29</td>\n",
       "      <td>6:56:58 PM</td>\n",
       "      <td>42.391623</td>\n",
       "      <td>-88.089163</td>\n",
       "    </tr>\n",
       "    <tr>\n",
       "      <th>1</th>\n",
       "      <td>2011-08-29</td>\n",
       "      <td>6:57:08 PM</td>\n",
       "      <td>42.391348</td>\n",
       "      <td>-88.089163</td>\n",
       "    </tr>\n",
       "    <tr>\n",
       "      <th>2</th>\n",
       "      <td>2011-08-29</td>\n",
       "      <td>6:57:18 PM</td>\n",
       "      <td>42.391022</td>\n",
       "      <td>-88.089157</td>\n",
       "    </tr>\n",
       "    <tr>\n",
       "      <th>3</th>\n",
       "      <td>2011-08-29</td>\n",
       "      <td>6:57:28 PM</td>\n",
       "      <td>42.390637</td>\n",
       "      <td>-88.089158</td>\n",
       "    </tr>\n",
       "    <tr>\n",
       "      <th>4</th>\n",
       "      <td>2011-08-29</td>\n",
       "      <td>6:57:38 PM</td>\n",
       "      <td>42.390410</td>\n",
       "      <td>-88.088858</td>\n",
       "    </tr>\n",
       "  </tbody>\n",
       "</table>\n",
       "</div>"
      ],
      "text/plain": [
       "         Date        Time   Latitude  Longitude\n",
       "0  2011-08-29  6:56:58 PM  42.391623 -88.089163\n",
       "1  2011-08-29  6:57:08 PM  42.391348 -88.089163\n",
       "2  2011-08-29  6:57:18 PM  42.391022 -88.089157\n",
       "3  2011-08-29  6:57:28 PM  42.390637 -88.089158\n",
       "4  2011-08-29  6:57:38 PM  42.390410 -88.088858"
      ]
     },
     "execution_count": 61,
     "metadata": {},
     "output_type": "execute_result"
    }
   ],
   "source": [
    "spray.head()\n",
    "\n",
    "#This dataset is showing the Date/Time and Location of Zenivex mosquito spray in the Chicago area.  \n",
    "#Below is some notable EDA points in the data and some insights into how they can be interpreted.\n",
    "### As of Tuesday I am yet to understand if these are individual instances of spray \n",
    "### based on a certain amount (gallon/cup/etc..) or just a \"burst\" of spray."
   ]
  },
  {
   "cell_type": "code",
   "execution_count": 60,
   "metadata": {
    "collapsed": true
   },
   "outputs": [
    {
     "data": {
      "text/plain": [
       "7:44:32 PM     541\n",
       "9:40:27 PM       5\n",
       "8:57:46 PM       5\n",
       "9:35:47 PM       5\n",
       "9:31:27 PM       5\n",
       "8:55:26 PM       5\n",
       "8:58:26 PM       5\n",
       "9:05:56 PM       5\n",
       "9:37:27 PM       5\n",
       "9:38:27 PM       5\n",
       "8:55:36 PM       5\n",
       "8:55:46 PM       5\n",
       "8:59:06 PM       5\n",
       "8:57:56 PM       5\n",
       "8:58:56 PM       5\n",
       "8:31:11 PM       4\n",
       "10:02:15 PM      4\n",
       "9:33:37 PM       4\n",
       "8:38:05 PM       4\n",
       "8:26:26 PM       4\n",
       "9:05:46 PM       4\n",
       "9:40:07 PM       4\n",
       "8:28:21 PM       4\n",
       "8:58:55 PM       4\n",
       "9:10:56 PM       4\n",
       "9:09:46 PM       4\n",
       "9:11:16 PM       4\n",
       "8:59:46 PM       4\n",
       "9:04:35 PM       4\n",
       "9:42:15 PM       4\n",
       "              ... \n",
       "8:43:39 PM       1\n",
       "9:56:25 PM       1\n",
       "11:16:18 PM      1\n",
       "11:47:11 PM      1\n",
       "9:02:13 PM       1\n",
       "7:33:51 PM       1\n",
       "9:14:20 PM       1\n",
       "8:28:42 PM       1\n",
       "8:46:12 PM       1\n",
       "8:59:30 PM       1\n",
       "9:00:34 PM       1\n",
       "10:03:59 PM      1\n",
       "11:16:30 PM      1\n",
       "9:22:30 PM       1\n",
       "7:59:31 PM       1\n",
       "8:34:42 PM       1\n",
       "8:44:32 PM       1\n",
       "9:40:25 PM       1\n",
       "8:57:02 PM       1\n",
       "8:22:23 PM       1\n",
       "10:13:08 PM      1\n",
       "10:09:34 PM      1\n",
       "7:49:16 PM       1\n",
       "9:36:00 PM       1\n",
       "7:50:23 PM       1\n",
       "9:50:09 PM       1\n",
       "10:50:01 PM      1\n",
       "10:09:29 PM      1\n",
       "11:26:38 PM      1\n",
       "8:32:09 PM       1\n",
       "Name: Time, Length: 8583, dtype: int64"
      ]
     },
     "execution_count": 60,
     "metadata": {},
     "output_type": "execute_result"
    }
   ],
   "source": [
    "#spray['Time'] = pd.to_datetime(spray['Time'])\n",
    "spray['Time'].value_counts().sort_values(ascending = False)\n",
    "#spray[spray['Time'] == '7:44:32 PM']['Date']\n",
    "\n",
    "## I was intitially inclined to simple delete this time, or at the very least reduce it to a more appropriate size relative to the other times in the data,\n",
    "## but as we see this seems to be a repeated value for the 2011-09-07 spray and could be worth while considering while modeling.  \n",
    "# This could simply be a time error or is purposfully indicated this way to denote a major spray dump at 7:45.   \n",
    "\n",
    "spray[spray['Date']=='2011-09-07'].shape\n",
    "\n",
    "# Continuing from above, there is a a major spray that occurred here but it is properly spread across the various times throughout the day.  \n",
    "# Still unsure on the validity of the 7:45 time.\n",
    "\n",
    "#News Coverage of the Sprays that match the Long/Lat locations and Date:\n",
    "#https://www.dnainfo.com/chicago/20140903/norwood-park/northwest-side-neighborhoods-targeted-again-for-west-nile-mosquito-spraying"
   ]
  },
  {
   "cell_type": "code",
   "execution_count": 104,
   "metadata": {},
   "outputs": [
    {
     "data": {
      "text/plain": [
       "2013-08-15    2668\n",
       "2013-08-29    2302\n",
       "2013-07-17    2202\n",
       "2011-09-07    2114\n",
       "2013-07-25    1607\n",
       "2013-08-22    1587\n",
       "2013-08-08    1195\n",
       "2013-09-05     924\n",
       "2013-08-16     141\n",
       "2011-08-29      95\n",
       "Name: Date, dtype: int64"
      ]
     },
     "execution_count": 104,
     "metadata": {},
     "output_type": "execute_result"
    }
   ],
   "source": [
    "spray['Date'].value_counts()\n",
    "# Spraying Occurred on 10 different days throughout 2011 and 2013.  \n",
    "# Earliest Spray - 2011-08-29. Most Recent Spray - 2013-09-05"
   ]
  },
  {
   "cell_type": "code",
   "execution_count": 107,
   "metadata": {},
   "outputs": [
    {
     "data": {
      "text/plain": [
       "2013-08-15    2668\n",
       "2013-08-29    2302\n",
       "2013-07-17    2202\n",
       "2013-07-25    1607\n",
       "2013-08-22    1587\n",
       "2011-09-07    1573\n",
       "2013-08-08    1195\n",
       "2013-09-05     924\n",
       "2013-08-16     141\n",
       "2011-08-29      95\n",
       "Name: Date, dtype: int64"
      ]
     },
     "execution_count": 107,
     "metadata": {},
     "output_type": "execute_result"
    }
   ],
   "source": [
    "adjusted = spray[spray['Time'] != '7:44:32 PM']\n",
    "adjusted['Date'].value_counts()\n",
    "\n",
    "# Date distribution after the 7:45 time adjustment.\n",
    "# '2011-09-07' decreases by ~540"
   ]
  },
  {
   "cell_type": "code",
   "execution_count": null,
   "metadata": {},
   "outputs": [],
   "source": []
  },
  {
   "cell_type": "code",
   "execution_count": null,
   "metadata": {},
   "outputs": [],
   "source": []
  },
  {
   "cell_type": "code",
   "execution_count": null,
   "metadata": {},
   "outputs": [],
   "source": []
  }
 ],
 "metadata": {
  "kernelspec": {
   "display_name": "Python 3",
   "language": "python",
   "name": "python3"
  },
  "language_info": {
   "codemirror_mode": {
    "name": "ipython",
    "version": 3
   },
   "file_extension": ".py",
   "mimetype": "text/x-python",
   "name": "python",
   "nbconvert_exporter": "python",
   "pygments_lexer": "ipython3",
   "version": "3.6.5"
  }
 },
 "nbformat": 4,
 "nbformat_minor": 2
}
