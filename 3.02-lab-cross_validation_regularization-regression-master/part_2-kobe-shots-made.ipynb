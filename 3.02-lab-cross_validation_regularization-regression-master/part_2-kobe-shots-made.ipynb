{
 "cells": [
  {
   "cell_type": "markdown",
   "metadata": {},
   "source": [
    "<img src=\"http://imgur.com/1ZcRyrc.png\" style=\"float: left; margin: 20px; height: 55px\">\n",
    "\n",
    "\n",
    "# Predicting Shots Made Per Game by Kobe Bryant\n",
    "\n",
    "_Authors: Kiefer Katovich (SF)_\n",
    "\n",
    "---\n",
    "\n",
    "In this lab you'll be using regularized regression penalties — ridge, lasso, and elastic net — to try and predict how many shots Kobe Bryant made per game during his career.\n",
    "\n",
    "The Kobe Shots data set contains hundreds of columns representing different characteristics of each basketball game. Fitting an ordinary linear regression using every predictor would dramatically overfit the model, considering the limited number of observations (games) we have available. Plus, many of the predictors have significant multicollinearity. \n",
    "\n",
    "\n",
    "**Warning:** Some of these calculations are computationally expensive and may take a while to execute. It may be worthwhile to only use a portion of the data to perform these calculations, especially if you've experienced kernel issues in the past.\n",
    "\n",
    "---\n",
    "\n",
    "### 1) Load packages and data."
   ]
  },
  {
   "cell_type": "code",
   "execution_count": 29,
   "metadata": {},
   "outputs": [],
   "source": [
    "import numpy as np\n",
    "import pandas as pd\n",
    "import patsy\n",
    "\n",
    "from sklearn.linear_model import Ridge, Lasso, ElasticNet, LinearRegression, RidgeCV, LassoCV, ElasticNetCV\n",
    "from sklearn.model_selection import cross_val_score\n",
    "from sklearn.model_selection import KFold\n",
    "import matplotlib\n",
    "import matplotlib.pyplot as plt\n",
    "import seaborn as sns\n",
    "plt.style.use('fivethirtyeight')\n",
    "\n",
    "%config InlineBackend.figure_format = 'retina'\n",
    "%matplotlib inline"
   ]
  },
  {
   "cell_type": "code",
   "execution_count": 5,
   "metadata": {},
   "outputs": [],
   "source": [
    "kobe = pd.read_csv('./datasets/kobe_superwide_games.csv')"
   ]
  },
  {
   "cell_type": "markdown",
   "metadata": {},
   "source": [
    "---\n",
    "\n",
    "### 2) Examine the data.\n",
    "\n",
    "- How many columns are there?\n",
    "- Examine what the observations (rows) and columns represent.\n",
    "- Why might regularization be particularly useful for modeling this data?"
   ]
  },
  {
   "cell_type": "code",
   "execution_count": 6,
   "metadata": {},
   "outputs": [
    {
     "data": {
      "text/html": [
       "<div>\n",
       "<style scoped>\n",
       "    .dataframe tbody tr th:only-of-type {\n",
       "        vertical-align: middle;\n",
       "    }\n",
       "\n",
       "    .dataframe tbody tr th {\n",
       "        vertical-align: top;\n",
       "    }\n",
       "\n",
       "    .dataframe thead th {\n",
       "        text-align: right;\n",
       "    }\n",
       "</style>\n",
       "<table border=\"1\" class=\"dataframe\">\n",
       "  <thead>\n",
       "    <tr style=\"text-align: right;\">\n",
       "      <th></th>\n",
       "      <th>SHOTS_MADE</th>\n",
       "      <th>AWAY_GAME</th>\n",
       "      <th>SEASON_OPPONENT:atl:1996-97</th>\n",
       "      <th>SEASON_OPPONENT:atl:1997-98</th>\n",
       "      <th>SEASON_OPPONENT:atl:1999-00</th>\n",
       "      <th>SEASON_OPPONENT:atl:2000-01</th>\n",
       "      <th>SEASON_OPPONENT:atl:2001-02</th>\n",
       "      <th>SEASON_OPPONENT:atl:2002-03</th>\n",
       "      <th>SEASON_OPPONENT:atl:2003-04</th>\n",
       "      <th>SEASON_OPPONENT:atl:2004-05</th>\n",
       "      <th>...</th>\n",
       "      <th>ACTION_TYPE:tip_layup_shot</th>\n",
       "      <th>ACTION_TYPE:tip_shot</th>\n",
       "      <th>ACTION_TYPE:turnaround_bank_shot</th>\n",
       "      <th>ACTION_TYPE:turnaround_fadeaway_bank_jump_shot</th>\n",
       "      <th>ACTION_TYPE:turnaround_fadeaway_shot</th>\n",
       "      <th>ACTION_TYPE:turnaround_finger_roll_shot</th>\n",
       "      <th>ACTION_TYPE:turnaround_hook_shot</th>\n",
       "      <th>ACTION_TYPE:turnaround_jump_shot</th>\n",
       "      <th>SEASON_GAME_NUMBER</th>\n",
       "      <th>CAREER_GAME_NUMBER</th>\n",
       "    </tr>\n",
       "  </thead>\n",
       "  <tbody>\n",
       "    <tr>\n",
       "      <th>0</th>\n",
       "      <td>0.0</td>\n",
       "      <td>0</td>\n",
       "      <td>0.0</td>\n",
       "      <td>0.0</td>\n",
       "      <td>0.0</td>\n",
       "      <td>0.0</td>\n",
       "      <td>0.0</td>\n",
       "      <td>0.0</td>\n",
       "      <td>0.0</td>\n",
       "      <td>0.0</td>\n",
       "      <td>...</td>\n",
       "      <td>0.0</td>\n",
       "      <td>0.0</td>\n",
       "      <td>0.0</td>\n",
       "      <td>0.0</td>\n",
       "      <td>0.0</td>\n",
       "      <td>0.0</td>\n",
       "      <td>0.0</td>\n",
       "      <td>0.0</td>\n",
       "      <td>1</td>\n",
       "      <td>1</td>\n",
       "    </tr>\n",
       "    <tr>\n",
       "      <th>1</th>\n",
       "      <td>0.0</td>\n",
       "      <td>1</td>\n",
       "      <td>0.0</td>\n",
       "      <td>0.0</td>\n",
       "      <td>0.0</td>\n",
       "      <td>0.0</td>\n",
       "      <td>0.0</td>\n",
       "      <td>0.0</td>\n",
       "      <td>0.0</td>\n",
       "      <td>0.0</td>\n",
       "      <td>...</td>\n",
       "      <td>0.0</td>\n",
       "      <td>0.0</td>\n",
       "      <td>0.0</td>\n",
       "      <td>0.0</td>\n",
       "      <td>0.0</td>\n",
       "      <td>0.0</td>\n",
       "      <td>0.0</td>\n",
       "      <td>0.0</td>\n",
       "      <td>2</td>\n",
       "      <td>2</td>\n",
       "    </tr>\n",
       "    <tr>\n",
       "      <th>2</th>\n",
       "      <td>2.0</td>\n",
       "      <td>1</td>\n",
       "      <td>0.0</td>\n",
       "      <td>0.0</td>\n",
       "      <td>0.0</td>\n",
       "      <td>0.0</td>\n",
       "      <td>0.0</td>\n",
       "      <td>0.0</td>\n",
       "      <td>0.0</td>\n",
       "      <td>0.0</td>\n",
       "      <td>...</td>\n",
       "      <td>0.0</td>\n",
       "      <td>0.0</td>\n",
       "      <td>0.0</td>\n",
       "      <td>0.0</td>\n",
       "      <td>0.0</td>\n",
       "      <td>0.0</td>\n",
       "      <td>0.0</td>\n",
       "      <td>0.0</td>\n",
       "      <td>3</td>\n",
       "      <td>3</td>\n",
       "    </tr>\n",
       "    <tr>\n",
       "      <th>3</th>\n",
       "      <td>2.0</td>\n",
       "      <td>1</td>\n",
       "      <td>0.0</td>\n",
       "      <td>0.0</td>\n",
       "      <td>0.0</td>\n",
       "      <td>0.0</td>\n",
       "      <td>0.0</td>\n",
       "      <td>0.0</td>\n",
       "      <td>0.0</td>\n",
       "      <td>0.0</td>\n",
       "      <td>...</td>\n",
       "      <td>0.0</td>\n",
       "      <td>0.0</td>\n",
       "      <td>0.0</td>\n",
       "      <td>0.0</td>\n",
       "      <td>0.0</td>\n",
       "      <td>0.0</td>\n",
       "      <td>0.0</td>\n",
       "      <td>0.0</td>\n",
       "      <td>4</td>\n",
       "      <td>4</td>\n",
       "    </tr>\n",
       "    <tr>\n",
       "      <th>4</th>\n",
       "      <td>0.0</td>\n",
       "      <td>0</td>\n",
       "      <td>1.0</td>\n",
       "      <td>0.0</td>\n",
       "      <td>0.0</td>\n",
       "      <td>0.0</td>\n",
       "      <td>0.0</td>\n",
       "      <td>0.0</td>\n",
       "      <td>0.0</td>\n",
       "      <td>0.0</td>\n",
       "      <td>...</td>\n",
       "      <td>0.0</td>\n",
       "      <td>0.0</td>\n",
       "      <td>0.0</td>\n",
       "      <td>0.0</td>\n",
       "      <td>0.0</td>\n",
       "      <td>0.0</td>\n",
       "      <td>0.0</td>\n",
       "      <td>0.0</td>\n",
       "      <td>5</td>\n",
       "      <td>5</td>\n",
       "    </tr>\n",
       "  </tbody>\n",
       "</table>\n",
       "<p>5 rows × 645 columns</p>\n",
       "</div>"
      ],
      "text/plain": [
       "   SHOTS_MADE  AWAY_GAME  SEASON_OPPONENT:atl:1996-97  \\\n",
       "0         0.0          0                          0.0   \n",
       "1         0.0          1                          0.0   \n",
       "2         2.0          1                          0.0   \n",
       "3         2.0          1                          0.0   \n",
       "4         0.0          0                          1.0   \n",
       "\n",
       "   SEASON_OPPONENT:atl:1997-98  SEASON_OPPONENT:atl:1999-00  \\\n",
       "0                          0.0                          0.0   \n",
       "1                          0.0                          0.0   \n",
       "2                          0.0                          0.0   \n",
       "3                          0.0                          0.0   \n",
       "4                          0.0                          0.0   \n",
       "\n",
       "   SEASON_OPPONENT:atl:2000-01  SEASON_OPPONENT:atl:2001-02  \\\n",
       "0                          0.0                          0.0   \n",
       "1                          0.0                          0.0   \n",
       "2                          0.0                          0.0   \n",
       "3                          0.0                          0.0   \n",
       "4                          0.0                          0.0   \n",
       "\n",
       "   SEASON_OPPONENT:atl:2002-03  SEASON_OPPONENT:atl:2003-04  \\\n",
       "0                          0.0                          0.0   \n",
       "1                          0.0                          0.0   \n",
       "2                          0.0                          0.0   \n",
       "3                          0.0                          0.0   \n",
       "4                          0.0                          0.0   \n",
       "\n",
       "   SEASON_OPPONENT:atl:2004-05         ...          \\\n",
       "0                          0.0         ...           \n",
       "1                          0.0         ...           \n",
       "2                          0.0         ...           \n",
       "3                          0.0         ...           \n",
       "4                          0.0         ...           \n",
       "\n",
       "   ACTION_TYPE:tip_layup_shot  ACTION_TYPE:tip_shot  \\\n",
       "0                         0.0                   0.0   \n",
       "1                         0.0                   0.0   \n",
       "2                         0.0                   0.0   \n",
       "3                         0.0                   0.0   \n",
       "4                         0.0                   0.0   \n",
       "\n",
       "   ACTION_TYPE:turnaround_bank_shot  \\\n",
       "0                               0.0   \n",
       "1                               0.0   \n",
       "2                               0.0   \n",
       "3                               0.0   \n",
       "4                               0.0   \n",
       "\n",
       "   ACTION_TYPE:turnaround_fadeaway_bank_jump_shot  \\\n",
       "0                                             0.0   \n",
       "1                                             0.0   \n",
       "2                                             0.0   \n",
       "3                                             0.0   \n",
       "4                                             0.0   \n",
       "\n",
       "   ACTION_TYPE:turnaround_fadeaway_shot  \\\n",
       "0                                   0.0   \n",
       "1                                   0.0   \n",
       "2                                   0.0   \n",
       "3                                   0.0   \n",
       "4                                   0.0   \n",
       "\n",
       "   ACTION_TYPE:turnaround_finger_roll_shot  ACTION_TYPE:turnaround_hook_shot  \\\n",
       "0                                      0.0                               0.0   \n",
       "1                                      0.0                               0.0   \n",
       "2                                      0.0                               0.0   \n",
       "3                                      0.0                               0.0   \n",
       "4                                      0.0                               0.0   \n",
       "\n",
       "   ACTION_TYPE:turnaround_jump_shot  SEASON_GAME_NUMBER  CAREER_GAME_NUMBER  \n",
       "0                               0.0                   1                   1  \n",
       "1                               0.0                   2                   2  \n",
       "2                               0.0                   3                   3  \n",
       "3                               0.0                   4                   4  \n",
       "4                               0.0                   5                   5  \n",
       "\n",
       "[5 rows x 645 columns]"
      ]
     },
     "execution_count": 6,
     "metadata": {},
     "output_type": "execute_result"
    }
   ],
   "source": [
    "# A:\n",
    "kobe"
   ]
  },
  {
   "cell_type": "markdown",
   "metadata": {},
   "source": [
    "---\n",
    "\n",
    "### 3) Create predictor and target variables. Standardize the predictors.\n",
    "\n",
    "Why is normalization necessary for regularized regressions?\n",
    "\n",
    "Use the `sklearn.preprocessing` class `StandardScaler` to standardize the predictors."
   ]
  },
  {
   "cell_type": "code",
   "execution_count": 20,
   "metadata": {
    "scrolled": true
   },
   "outputs": [
    {
     "data": {
      "text/plain": [
       "SHOTS_MADE                                1.000000\n",
       "SHOT_TYPE:2pt_field_goal                  0.756382\n",
       "SECONDS_REMAINING                         0.747316\n",
       "PERIOD                                    0.742676\n",
       "COMBINED_SHOT_TYPE:jump_shot              0.704276\n",
       "MINUTES_REMAINING                         0.697127\n",
       "SHOT_ZONE_AREA:center(c)                  0.612336\n",
       "SHOT_ZONE_BASIC:mid-range                 0.602949\n",
       "SHOT_ZONE_RANGE:16-24_ft.                 0.542262\n",
       "SHOT_ZONE_RANGE:less_than_8_ft.           0.496180\n",
       "SHOT_ZONE_RANGE:8-16_ft.                  0.491018\n",
       "SHOT_ZONE_BASIC:restricted_area           0.458061\n",
       "SHOT_ZONE_AREA:right_side(r)              0.428822\n",
       "SHOT_ZONE_BASIC:in_the_paint_(non-ra)     0.412031\n",
       "SHOT_ZONE_AREA:right_side_center(rc)      0.406553\n",
       "COMBINED_SHOT_TYPE:layup                  0.387242\n",
       "SHOT_ZONE_AREA:left_side(l)               0.379637\n",
       "SHOT_ZONE_AREA:left_side_center(lc)       0.374991\n",
       "SHOT_ZONE_RANGE:24+_ft.                   0.313042\n",
       "SHOT_ZONE_BASIC:above_the_break_3         0.308355\n",
       "SHOT_TYPE:3pt_field_goal                  0.298570\n",
       "COMBINED_SHOT_TYPE:dunk                   0.288575\n",
       "CAREER_GAME_NUMBER                        0.194842\n",
       "SEASON:2005-06                            0.187522\n",
       "ACTION_TYPE:fadeaway_jump_shot            0.158738\n",
       "ACTION_TYPE:turnaround_jump_shot          0.146655\n",
       "COMBINED_SHOT_TYPE:bank_shot              0.108443\n",
       "ACTION_TYPE:alley_oop_dunk_shot           0.105034\n",
       "SEASON:2006-07                            0.099053\n",
       "ACTION_TYPE:reverse_dunk_shot             0.096487\n",
       "                                            ...   \n",
       "ACTION_TYPE:driving_floating_jump_shot   -0.056963\n",
       "SEASON_OPPONENT:mem:2004-05              -0.059392\n",
       "SEASON:2013-14                           -0.060183\n",
       "SEASON_OPPONENT:ind:1997-98              -0.060531\n",
       "SEASON_OPPONENT:tor:1996-97              -0.060531\n",
       "SEASON_OPPONENT:hou:1996-97              -0.060531\n",
       "SEASON_OPPONENT:gsw:2015-16              -0.063611\n",
       "SEASON_OPPONENT:phx:1996-97              -0.063611\n",
       "SEASON_OPPONENT:phx:1997-98              -0.063728\n",
       "SEASON_OPPONENT:cle:1996-97              -0.065697\n",
       "SEASON_OPPONENT:por:1996-97              -0.067384\n",
       "SEASON_OPPONENT:sas:1997-98              -0.067830\n",
       "SEASON_OPPONENT:sea:1996-97              -0.067830\n",
       "ACTION_TYPE:jump_shot                    -0.070206\n",
       "SEASON_OPPONENT:por:1997-98              -0.072126\n",
       "SEASON:1998-99                           -0.074068\n",
       "SEASON_OPPONENT:sac:1997-98              -0.074694\n",
       "SEASON_OPPONENT:atl:1996-97              -0.076029\n",
       "SEASON_OPPONENT:nyk:1996-97              -0.076029\n",
       "SEASON_OPPONENT:sac:1996-97              -0.078349\n",
       "SEASON_OPPONENT:den:1996-97              -0.078349\n",
       "SEASON_OPPONENT:dal:1996-97              -0.078349\n",
       "SEASON_OPPONENT:uta:1997-98              -0.090242\n",
       "SEASON_OPPONENT:min:1996-97              -0.092970\n",
       "SEASON_OPPONENT:sea:1997-98              -0.093033\n",
       "ACTION_TYPE:layup_shot                   -0.113445\n",
       "SEASON_OPPONENT:uta:1996-97              -0.127476\n",
       "SEASON:2015-16                           -0.141132\n",
       "SEASON:1997-98                           -0.243827\n",
       "SEASON:1996-97                           -0.332674\n",
       "Length: 645, dtype: float64"
      ]
     },
     "execution_count": 20,
     "metadata": {},
     "output_type": "execute_result"
    }
   ],
   "source": [
    "corr = kobe.corrwith(kobe['SHOTS_MADE'])\n",
    "corr.sort_values(ascending = False)"
   ]
  },
  {
   "cell_type": "code",
   "execution_count": 23,
   "metadata": {},
   "outputs": [],
   "source": [
    "features = ['SHOT_TYPE:2pt_field_goal','SECONDS_REMAINING',\n",
    "            'PERIOD','COMBINED_SHOT_TYPE:jump_shot',\n",
    "            'MINUTES_REMAINING','SHOT_ZONE_AREA:center(c)','SHOT_ZONE_BASIC:mid-range',\n",
    "           'SHOT_ZONE_RANGE:16-24_ft.','SHOT_ZONE_RANGE:less_than_8_ft.','SHOT_ZONE_RANGE:8-16_ft.',\n",
    "           'SHOT_ZONE_BASIC:restricted_area','SHOT_ZONE_AREA:right_side(r)','SHOT_ZONE_BASIC:in_the_paint_(non-ra)',\n",
    "           'COMBINED_SHOT_TYPE:layup']\n",
    "X = kobe[features]"
   ]
  },
  {
   "cell_type": "code",
   "execution_count": 27,
   "metadata": {},
   "outputs": [],
   "source": [
    "# A:\n",
    "\n",
    "from sklearn.preprocessing import StandardScaler\n",
    "from sklearn.model_selection import train_test_split\n",
    "\n",
    "ss = StandardScaler()\n",
    "\n",
    "X_scaled = ss.fit_transform(X)\n",
    "\n",
    "y = kobe['SHOTS_MADE']\n",
    "\n",
    "X_train,X_test, y_train, y_test = train_test_split(X_scaled,y, random_state = 42)"
   ]
  },
  {
   "cell_type": "markdown",
   "metadata": {},
   "source": [
    "---\n",
    "\n",
    "### 4. Build a linear regression predicting `SHOTS_MADE` from the rest of the columns.\n",
    "\n",
    "Cross-validate the $R^2$ of an ordinary linear regression model with 10 cross-validation folds.\n",
    "\n",
    "How does it perform?"
   ]
  },
  {
   "cell_type": "code",
   "execution_count": 33,
   "metadata": {},
   "outputs": [
    {
     "data": {
      "text/plain": [
       "array([0.48622257, 0.58686895, 0.64621707, 0.66346507, 0.66585719,\n",
       "       0.65749575, 0.57387573, 0.68573126, 0.67621751, 0.55311813])"
      ]
     },
     "execution_count": 33,
     "metadata": {},
     "output_type": "execute_result"
    }
   ],
   "source": [
    "# A:\n",
    "lr = LinearRegression()\n",
    "kf = KFold(n_splits=10, shuffle=True, random_state = 42,)\n",
    "\n",
    "scores = cross_val_score(lr,X_train,y_train, cv = kf)\n",
    "scores"
   ]
  },
  {
   "cell_type": "markdown",
   "metadata": {},
   "source": [
    "---\n",
    "\n",
    "### 5) Find an optimal value for the ridge regression alpha using `RidgeCV`.\n",
    "\n",
    "Go to the documentation and [read how RidgeCV works](http://scikit-learn.org/stable/modules/generated/sklearn.linear_model.RidgeCV.html).\n",
    "\n",
    "> *Hint: Once the RidgeCV is fit, the attribute `.alpha_` contains the best alpha parameter it found through cross-validation.*\n",
    "\n",
    "Recall that ridge performs best when searching alphas through logarithmic space (`np.logspace`). This may take awhile to fit.\n"
   ]
  },
  {
   "cell_type": "code",
   "execution_count": 52,
   "metadata": {},
   "outputs": [],
   "source": [
    "# A:\n",
    "\n",
    "from sklearn.linear_model import Ridge, RidgeCV\n",
    "\n",
    "r_alphas = np.logspace(0, 5, 200)\n",
    "ridge_model = RidgeCV(alphas=r_alphas, store_cv_values=True)\n",
    "ridge_model = ridge_model.fit(X_train,y_train)\n",
    "\n",
    "optimal_alpha = ridge_model.alpha_"
   ]
  },
  {
   "cell_type": "markdown",
   "metadata": {},
   "source": [
    "---\n",
    "\n",
    "### 6) Cross-validate the ridge regression $R^2$ with the optimal alpha.\n",
    "\n",
    "Is it better than the linear regression? If so, why might this be?"
   ]
  },
  {
   "cell_type": "code",
   "execution_count": 54,
   "metadata": {},
   "outputs": [
    {
     "data": {
      "text/plain": [
       "Ridge(alpha=4.768611697714471, copy_X=True, fit_intercept=True, max_iter=None,\n",
       "   normalize=False, random_state=None, solver='auto', tol=0.001)"
      ]
     },
     "execution_count": 54,
     "metadata": {},
     "output_type": "execute_result"
    }
   ],
   "source": [
    "# A:\n",
    "Ridge(alpha = optimal_alpha)\n",
    "\n"
   ]
  },
  {
   "cell_type": "markdown",
   "metadata": {},
   "source": [
    "---\n",
    "\n",
    "### 7) Find an optimal value for lasso regression alpha using `LassoCV`.\n",
    "\n",
    "Go to the documentation and [read how LassoCV works](http://scikit-learn.org/stable/modules/generated/sklearn.linear_model.LassoCV.html). It is very similar to `RidgeCV`.\n",
    "\n",
    "> *Hint: Again, once the `LassoCV` is fit, the attribute `.alpha_` contains the best alpha parameter it found through cross-validation.*\n",
    "\n",
    "Recall that lasso, unlike ridge, performs best when searching for alpha through linear space (`np.linspace`). However, you can actually let the LassoCV decide what alphas to use itself by setting the keyword argument `n_alphas=` to however many alphas you want it to search over. We recommend letting scikit-learn choose the range of alphas.\n",
    "\n",
    "_**Tip:** If you find your CV taking a long time and you're not sure if it's working, set `verbose =1`._"
   ]
  },
  {
   "cell_type": "code",
   "execution_count": 68,
   "metadata": {},
   "outputs": [
    {
     "name": "stderr",
     "output_type": "stream",
     "text": [
      "C:\\Users\\tbaca\\Anaconda3\\lib\\site-packages\\sklearn\\linear_model\\coordinate_descent.py:491: ConvergenceWarning: Objective did not converge. You might want to increase the number of iterations. Fitting data with very small alpha may cause precision problems.\n",
      "  ConvergenceWarning)\n"
     ]
    }
   ],
   "source": [
    "# A:\n",
    "from sklearn.linear_model import Lasso, LassoCV\n",
    "\n",
    "l_alphas = np.arange(0.001, 0.15, 0.0025)\n",
    "lasso_model = LassoCV(alphas=l_alphas)\n",
    "lasso_model = lasso_model.fit(X_train,y_train)\n",
    "\n",
    "optimal_alpha_l = lasso_model.alpha_"
   ]
  },
  {
   "cell_type": "markdown",
   "metadata": {},
   "source": [
    "---\n",
    "\n",
    "### 8) Cross-validate the lasso $R^2$ with the optimal alpha.\n",
    "\n",
    "Is it better than the linear regression? Is it better than ridge? What do the differences in results imply about the issues with the data set?"
   ]
  },
  {
   "cell_type": "code",
   "execution_count": 69,
   "metadata": {},
   "outputs": [
    {
     "data": {
      "text/plain": [
       "Lasso(alpha=0.013500000000000002, copy_X=True, fit_intercept=True,\n",
       "   max_iter=1000, normalize=False, positive=False, precompute=False,\n",
       "   random_state=None, selection='cyclic', tol=0.0001, warm_start=False)"
      ]
     },
     "execution_count": 69,
     "metadata": {},
     "output_type": "execute_result"
    }
   ],
   "source": [
    "# A:\n",
    "Lasso(alpha = optimal_alpha_l)"
   ]
  },
  {
   "cell_type": "markdown",
   "metadata": {},
   "source": [
    "---\n",
    "\n",
    "### 9) Look at the coefficients for variables in the lasso.\n",
    "\n",
    "1. Show the coefficient for variables, ordered from largest to smallest coefficient by absolute value.\n",
    "2. What percent of the variables in the original data set are \"zeroed-out\" by the lasso?\n",
    "3. What are the most important predictors for how many shots Kobe made in a game?\n",
    "\n",
    "> **Note:** If you only fit the lasso within `cross_val_score`, you'll have to refit it outside of that function to pull out the coefficients."
   ]
  },
  {
   "cell_type": "code",
   "execution_count": 70,
   "metadata": {},
   "outputs": [
    {
     "data": {
      "text/plain": [
       "array([ 0.        ,  0.23026127,  0.        ,  1.51393858, -0.        ,\n",
       "        0.13588207, -0.        ,  0.43171698, -0.        ,  0.21857255,\n",
       "        1.55225313, -0.02208988,  0.07682286, -0.50803186])"
      ]
     },
     "execution_count": 70,
     "metadata": {},
     "output_type": "execute_result"
    }
   ],
   "source": [
    "# A:\n",
    "\n",
    "lasso_model.coef_"
   ]
  },
  {
   "cell_type": "markdown",
   "metadata": {},
   "source": [
    "## ---\n",
    "\n",
    "### 10) Find an optimal value for elastic net regression alpha using `ElasticNetCV`.\n",
    "\n",
    "Go to the documentation and [read how ElasticNetCV works](http://scikit-learn.org/stable/modules/generated/sklearn.linear_model.ElasticNetCV.html).\n",
    "\n",
    "Note that here you'll be optimizing both the alpha parameter and the l1_ratio:\n",
    "- `alpha`: Strength of regularization.\n",
    "- `l1_ratio`: Amount of ridge vs. lasso (0 = all ridge, 1 = all lasso).\n",
    "    \n",
    "Do not include 0 in the search for `l1_ratio` — it won't allow it and will break.\n",
    "\n",
    "You can use `n_alphas` for the alpha parameters instead of setting your own values, which we highly recommend.\n",
    "\n",
    "Also, be careful setting too many l1_ratios over cross-validation folds in your search. It can take a long time if you choose too many combinations and, for the most part, there are diminishing returns in this data."
   ]
  },
  {
   "cell_type": "code",
   "execution_count": 74,
   "metadata": {},
   "outputs": [],
   "source": [
    "# A:\n",
    "from sklearn.linear_model import ElasticNet, ElasticNetCV\n",
    "\n",
    "enet_alphas = np.arange(0.5, 1.0, 0.005)\n",
    "enet_ratio = 0.5\n",
    "enet_model = ElasticNetCV(alphas=enet_alphas, l1_ratio=enet_ratio, cv=5)\n",
    "enet_model = enet_model.fit(X_train, y_train)"
   ]
  },
  {
   "cell_type": "markdown",
   "metadata": {},
   "source": [
    "---\n",
    "\n",
    "### 11) Cross-validate the elastic net $R^2$ with the optimal alpha and l1_ratio.\n",
    "\n",
    "How does it compare to the ridge and lasso regularized regressions?"
   ]
  },
  {
   "cell_type": "code",
   "execution_count": 75,
   "metadata": {},
   "outputs": [
    {
     "data": {
      "text/plain": [
       "0.5"
      ]
     },
     "execution_count": 75,
     "metadata": {},
     "output_type": "execute_result"
    }
   ],
   "source": [
    "# A:\n"
   ]
  },
  {
   "cell_type": "markdown",
   "metadata": {},
   "source": [
    "---\n",
    "\n",
    "### 12. [Bonus] Compare the residuals for ridge and lasso visually.\n"
   ]
  },
  {
   "cell_type": "code",
   "execution_count": null,
   "metadata": {
    "collapsed": true
   },
   "outputs": [],
   "source": [
    "# A: Maybe a jointplot?"
   ]
  }
 ],
 "metadata": {
  "kernelspec": {
   "display_name": "Python 3",
   "language": "python",
   "name": "python3"
  },
  "language_info": {
   "codemirror_mode": {
    "name": "ipython",
    "version": 3
   },
   "file_extension": ".py",
   "mimetype": "text/x-python",
   "name": "python",
   "nbconvert_exporter": "python",
   "pygments_lexer": "ipython3",
   "version": "3.6.5"
  }
 },
 "nbformat": 4,
 "nbformat_minor": 1
}
