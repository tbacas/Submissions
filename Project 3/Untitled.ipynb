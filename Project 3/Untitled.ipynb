{
 "cells": [
  {
   "cell_type": "code",
   "execution_count": 1,
   "metadata": {},
   "outputs": [],
   "source": [
    "import pandas as pd\n",
    "import numpy as np\n",
    "import datetime as dt\n",
    "import time\n",
    "import requests\n",
    "import json"
   ]
  },
  {
   "cell_type": "code",
   "execution_count": 2,
   "metadata": {},
   "outputs": [],
   "source": [
    "url = 'https://api.pushshift.io/reddit/search/submission/?subreddit=finance&size=2500'"
   ]
  },
  {
   "cell_type": "code",
   "execution_count": null,
   "metadata": {},
   "outputs": [],
   "source": []
  },
  {
   "cell_type": "code",
   "execution_count": null,
   "metadata": {},
   "outputs": [],
   "source": []
  },
  {
   "cell_type": "code",
   "execution_count": null,
   "metadata": {},
   "outputs": [],
   "source": []
  },
  {
   "cell_type": "code",
   "execution_count": 3,
   "metadata": {
    "collapsed": true
   },
   "outputs": [
    {
     "name": "stdout",
     "output_type": "stream",
     "text": [
      "https://api.pushshift.io/reddit/search/submission/?subreddit=finance&size=500&after=0d\n",
      "https://api.pushshift.io/reddit/search/submission/?subreddit=finance&size=500&after=1d\n",
      "https://api.pushshift.io/reddit/search/submission/?subreddit=finance&size=500&after=2d\n",
      "https://api.pushshift.io/reddit/search/submission/?subreddit=finance&size=500&after=3d\n",
      "https://api.pushshift.io/reddit/search/submission/?subreddit=finance&size=500&after=4d\n",
      "https://api.pushshift.io/reddit/search/submission/?subreddit=finance&size=500&after=5d\n",
      "https://api.pushshift.io/reddit/search/submission/?subreddit=finance&size=500&after=6d\n",
      "https://api.pushshift.io/reddit/search/submission/?subreddit=finance&size=500&after=7d\n",
      "https://api.pushshift.io/reddit/search/submission/?subreddit=finance&size=500&after=8d\n",
      "https://api.pushshift.io/reddit/search/submission/?subreddit=finance&size=500&after=9d\n",
      "https://api.pushshift.io/reddit/search/submission/?subreddit=finance&size=500&after=10d\n",
      "https://api.pushshift.io/reddit/search/submission/?subreddit=finance&size=500&after=11d\n",
      "https://api.pushshift.io/reddit/search/submission/?subreddit=finance&size=500&after=12d\n",
      "https://api.pushshift.io/reddit/search/submission/?subreddit=finance&size=500&after=13d\n",
      "https://api.pushshift.io/reddit/search/submission/?subreddit=finance&size=500&after=14d\n",
      "https://api.pushshift.io/reddit/search/submission/?subreddit=finance&size=500&after=15d\n",
      "https://api.pushshift.io/reddit/search/submission/?subreddit=finance&size=500&after=16d\n",
      "https://api.pushshift.io/reddit/search/submission/?subreddit=finance&size=500&after=17d\n",
      "https://api.pushshift.io/reddit/search/submission/?subreddit=finance&size=500&after=18d\n",
      "https://api.pushshift.io/reddit/search/submission/?subreddit=finance&size=500&after=19d\n",
      "https://api.pushshift.io/reddit/search/submission/?subreddit=finance&size=500&after=20d\n",
      "https://api.pushshift.io/reddit/search/submission/?subreddit=finance&size=500&after=21d\n",
      "https://api.pushshift.io/reddit/search/submission/?subreddit=finance&size=500&after=22d\n",
      "https://api.pushshift.io/reddit/search/submission/?subreddit=finance&size=500&after=23d\n",
      "https://api.pushshift.io/reddit/search/submission/?subreddit=finance&size=500&after=24d\n",
      "https://api.pushshift.io/reddit/search/submission/?subreddit=finance&size=500&after=25d\n",
      "https://api.pushshift.io/reddit/search/submission/?subreddit=finance&size=500&after=26d\n",
      "https://api.pushshift.io/reddit/search/submission/?subreddit=finance&size=500&after=27d\n",
      "https://api.pushshift.io/reddit/search/submission/?subreddit=finance&size=500&after=28d\n",
      "https://api.pushshift.io/reddit/search/submission/?subreddit=finance&size=500&after=29d\n"
     ]
    }
   ],
   "source": [
    "for each in range(30):\n",
    "    url = 'https://api.pushshift.io/reddit/search/submission/?subreddit=finance&size=500&after={}d'.format(each)\n",
    "    print(url)"
   ]
  },
  {
   "cell_type": "code",
   "execution_count": 8,
   "metadata": {},
   "outputs": [],
   "source": [
    "###!pip install progressbar2\n",
    "\n"
   ]
  },
  {
   "cell_type": "code",
   "execution_count": 9,
   "metadata": {},
   "outputs": [],
   "source": [
    "from progressbar import ProgressBar"
   ]
  },
  {
   "cell_type": "code",
   "execution_count": 10,
   "metadata": {},
   "outputs": [],
   "source": [
    "def query_pushshift(subreddit,kind ='submission',skip = 2, times =25, \n",
    "                    subfield = ['title','selftext', 'subreddit',\n",
    "                                'created_utc', 'author', 'id',\n",
    "                                'num_comments', 'score','full_link', 'is_self']):\n",
    "    \n",
    "\n",
    "    \n",
    "    bar = ProgressBar()\n",
    "    mylist = []\n",
    "    for each in bar(range(1,times)):\n",
    "        url = 'https://api.pushshift.io/reddit/search/{}/?subreddit={}&size=500&after={}d'.format(kind,subreddit,str(each*skip))\n",
    "        response = requests.get(url)\n",
    "        assert response.status_code == 200\n",
    "        data = response.json()['data']\n",
    "        df = pd.DataFrame.from_dict(data)\n",
    "        mylist.append(df)\n",
    "        time.sleep(2)\n",
    "      \n",
    "    full = pd.concat(mylist,)\n",
    "    \n",
    "    if kind == 'submission':\n",
    "        \n",
    "        full = full[subfield]\n",
    "        full.drop_duplicates()\n",
    "        full = full.loc[full['is_self'] == True]\n",
    "\n",
    "    def get_date(created):\n",
    "        return dt.date.fromtimestamp(created)\n",
    "    \n",
    "    _timestamp = full['created_utc'].apply(get_date)\n",
    "    \n",
    "    full['timestamp'] = _timestamp\n",
    "    full.reset_index\n",
    "    \n",
    "    print(full.shape)\n",
    "    \n",
    "    return full"
   ]
  },
  {
   "cell_type": "code",
   "execution_count": 11,
   "metadata": {},
   "outputs": [
    {
     "name": "stderr",
     "output_type": "stream",
     "text": [
      "100% (49 of 49) |########################| Elapsed Time: 0:03:52 Time:  0:03:52\n",
      "C:\\Users\\tbaca\\Anaconda3\\lib\\site-packages\\ipykernel_launcher.py:19: FutureWarning: Sorting because non-concatenation axis is not aligned. A future version\n",
      "of pandas will change to not sort by default.\n",
      "\n",
      "To accept the future behavior, pass 'sort=True'.\n",
      "\n",
      "To retain the current behavior and silence the warning, pass sort=False\n",
      "\n"
     ]
    },
    {
     "name": "stdout",
     "output_type": "stream",
     "text": [
      "(24168, 11)\n"
     ]
    }
   ],
   "source": [
    "df=query_pushshift(\"Changemyview\",skip = 3 , times = 50)"
   ]
  },
  {
   "cell_type": "code",
   "execution_count": null,
   "metadata": {},
   "outputs": [],
   "source": []
  },
  {
   "cell_type": "code",
   "execution_count": null,
   "metadata": {},
   "outputs": [],
   "source": [
    "pd.set_option('display.max_colwidth', -1)"
   ]
  },
  {
   "cell_type": "code",
   "execution_count": 14,
   "metadata": {},
   "outputs": [],
   "source": [
    "df.to_csv(path_or_buf=\"Changemyview_Final_scrape.csv\", encoding = \"utf-8\")\n",
    "\n"
   ]
  },
  {
   "cell_type": "code",
   "execution_count": 25,
   "metadata": {},
   "outputs": [
    {
     "data": {
      "text/plain": [
       "PiyasaTL; Dolar kuru, Döviz kurları, Piyasa bilgileri, Altın fiyatları ve Borsa verileri.                                                                               112\n",
       "Commercial Domestic Investigations                                                                                                                                       97\n",
       "Commercial Domestic Investigations Review                                                                                                                                42\n",
       "personal loan Delhi NCR                                                                                                                                                  36\n",
       "Personal Loan facility in delhi ncr                                                                                                                                      35\n",
       "Personal Loan in Delhi NCR                                                                                                                                               34\n",
       "gold loan provider company delhi ncr                                                                                                                                     34\n",
       "personal business loan provider delhi ncr                                                                                                                                34\n",
       "apply for personal loan in East delhi                                                                                                                                    33\n",
       "private finance providers in East delhi                                                                                                                                  33\n",
       "private financiers in East delhi                                                                                                                                         33\n",
       "easy personal loan in East delhi                                                                                                                                         32\n",
       "low interest rate personal loan in Delhi NCR                                                                                                                             30\n",
       "easy personal loan Delhi NCR                                                                                                                                             29\n",
       "Same Day Loan Online delhi ncr                                                                                                                                           28\n",
       "quick loan online same day in Delhi NCR                                                                                                                                  26\n",
       "loan online same day in Delhi NCR                                                                                                                                        24\n",
       "CIBIL Score for Personal Loan in East delhi                                                                                                                              24\n",
       "Mortgage Loan In Bangalore & Mortgage Loan Against Property In Bangalore                                                                                                 24\n",
       "Michael Bach Atlanta                                                                                                                                                     24\n",
       "Debt Collectors UK                                                                                                                                                       22\n",
       "Derek Bluford to open Coworking spaces throughout the nation                                                                                                             19\n",
       "Construction Loan For B Khata Home Renovation & Remodeling Apply 9739667778                                                                                              18\n",
       "Loans in Reno NV                                                                                                                                                         17\n",
       "Marcio Garcia de Andrade on Why Choose Seasoned Tradelines to Improve your Credit Scores                                                                                 17\n",
       "unsecured loans Delhi ncr                                                                                                                                                15\n",
       "How FastUnsecured.com Finds Unsecured Business Loans for Clients                                                                                                         15\n",
       "Commercial Debt Recovery                                                                                                                                                 15\n",
       "Lee Chimerakis                                                                                                                                                           15\n",
       "Establish Business Credit North Carolina For Your New Venture                                                                                                            14\n",
       "                                                                                                                                                                       ... \n",
       "Starting a profitable small business?                                                                                                                                     1\n",
       "Online Loans Best                                                                                                                                                         1\n",
       "Get Mcx Tips Free Trial with 100% Profitable Sure Calls – Free MCX Trading Tips                                                                                           1\n",
       "Looking for good narrrative book on corporate finance and understanding the health of a corporation by its 10-k or high level metrics                                     1\n",
       "How do retirement plans for extremely old people work?                                                                                                                    1\n",
       "5 Tips Memanfaatkan Dana Pinjaman KTA dengan Baik                                                                                                                         1\n",
       "Cash Advance Loans Australia                                                                                                                                              1\n",
       "Net Branch Opportunity                                                                                                                                                    1\n",
       "IRA Contribution Limit Questions                                                                                                                                          1\n",
       "Best study resources for FRM certification                                                                                                                                1\n",
       "Financial Advisor Franchise                                                                                                                                               1\n",
       "Getting Ahead of a Disputed Debt Sent to Collections?                                                                                                                     1\n",
       "$100 - $15,000 Fast Cash Loans in the USA                                                                                                                                 1\n",
       "Grow Easy Income eliminated the need of investment in growing your business                                                                                               1\n",
       "Are Bonuses Taxed?                                                                                                                                                        1\n",
       "Which other area s of finance should i look into/ can break into?                                                                                                         1\n",
       "ELI5. How much money can be made in Real Estate during global instability or War                                                                                          1\n",
       "First time home buyers advice.                                                                                                                                            1\n",
       "Easy EMI                                                                                                                                                                  1\n",
       "I work 2 jobs that I can't afford to quit. I want to protest but theres travel expenses/food, bills at home. How do people make income protesting? Grants? Sponsors?      1\n",
       "Investment Banker                                                                                                                                                         1\n",
       "Financial Risk Manager (FRM)                                                                                                                                              1\n",
       "Project Financing - Bank Guarantee (BG) and Standby Letter of Credit (SBLC) for LEASE - Direct Provider.                                                                  1\n",
       "Moronic Monday, August 27, 2018 - Your Weekly Questions Thread                                                                                                            1\n",
       "[OFFER]Be one of the first to harness the full power of collective intention.                                                                                             1\n",
       "Does anyone have an excel or csv spreadsheet on Non-US stock symbols that includes sector and industry?                                                                   1\n",
       "Free Trial for Intraday Trading Tips                                                                                                                                      1\n",
       "low cibil score in delhi ncr                                                                                                                                              1\n",
       "Credit default swaps and bonds                                                                                                                                            1\n",
       "Market Neuron | Trading Tips                                                                                                                                              1\n",
       "Name: title, Length: 13458, dtype: int64"
      ]
     },
     "execution_count": 25,
     "metadata": {},
     "output_type": "execute_result"
    }
   ],
   "source": []
  },
  {
   "cell_type": "code",
   "execution_count": 15,
   "metadata": {},
   "outputs": [],
   "source": [
    "r_finance = pd.read_csv(\"./Finance_Final_Scrape.csv\")\n",
    "r_changemyview = pd.read_csv(\"./Changemyview_Final_scrape.csv\")"
   ]
  },
  {
   "cell_type": "code",
   "execution_count": null,
   "metadata": {},
   "outputs": [],
   "source": []
  },
  {
   "cell_type": "code",
   "execution_count": null,
   "metadata": {},
   "outputs": [],
   "source": [
    "from sklearn import svm, linear_model, datasets\n",
    "from sklearn.model_selection import cross_val_score, train_test_split, GridSearchCV\n",
    "from sklearn.neighbors import KNeighborsClassifier"
   ]
  },
  {
   "cell_type": "code",
   "execution_count": null,
   "metadata": {},
   "outputs": [],
   "source": [
    "knn = KNeighborsClassifier()\n",
    "\n",
    "params = {'n_neighbors': [2,3,5,7,9,11],\n",
    "         'metric': ['minkowski', 'euclidean', 'manhattan']}\n",
    "\n",
    "grid = GridSearchCV(knn,params)\n",
    "grid.fit(df,y.ravel())\n",
    "\n",
    "grid.best_params_\n",
    "\n",
    "grid.best_score_"
   ]
  }
 ],
 "metadata": {
  "kernelspec": {
   "display_name": "Python 3",
   "language": "python",
   "name": "python3"
  },
  "language_info": {
   "codemirror_mode": {
    "name": "ipython",
    "version": 3
   },
   "file_extension": ".py",
   "mimetype": "text/x-python",
   "name": "python",
   "nbconvert_exporter": "python",
   "pygments_lexer": "ipython3",
   "version": "3.6.5"
  }
 },
 "nbformat": 4,
 "nbformat_minor": 2
}
